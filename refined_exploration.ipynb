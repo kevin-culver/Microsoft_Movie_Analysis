{
 "cells": [
  {
   "cell_type": "markdown",
   "metadata": {
    "heading_collapsed": true
   },
   "source": [
    "# Introduction/Overview:"
   ]
  },
  {
   "cell_type": "markdown",
   "metadata": {},
   "source": [
    "# Data Preparation"
   ]
  },
  {
   "cell_type": "markdown",
   "metadata": {
    "heading_collapsed": true
   },
   "source": [
    "## Importing Relevant Modules and Datasets"
   ]
  },
  {
   "cell_type": "code",
   "execution_count": 1,
   "metadata": {
    "hidden": true
   },
   "outputs": [],
   "source": [
    "import pandas as pd\n",
    "import matplotlib.pyplot as plt\n",
    "import seaborn as sns\n",
    "import datetime\n",
    "%matplotlib inline"
   ]
  },
  {
   "cell_type": "code",
   "execution_count": 3,
   "metadata": {
    "hidden": true
   },
   "outputs": [],
   "source": [
    "#Rotten Tomatoes datasets\n",
    "rot_info = pd.read_csv('zippedData/rt.movie_info.tsv.gz', sep='\\t')\n",
    "\n",
    "#iMDB datasets\n",
    "imdb_ratings = pd.read_csv('zippedData/imdb.title.ratings.csv.gz')\n",
    "imdb_titles = pd.read_csv('zippedData/imdb.title.basics.csv.gz')\n",
    "\n",
    "#Box Office Mojo\n",
    "bojo_gross = pd.read_csv('zippedData/bom.movie_gross.csv')\n",
    "\n",
    "#the Movied DB\n",
    "tmdb = pd.read_csv('zippedData/tmdb.movies.csv.gz')\n",
    "\n",
    "#Movie bydget DB\n",
    "budget = pd.read_csv('zippedData/tn.movie_budgets.csv.gz')"
   ]
  },
  {
   "cell_type": "markdown",
   "metadata": {
    "heading_collapsed": true
   },
   "source": [
    "## Creating Joined Data Table (iMDB + TN Budget)"
   ]
  },
  {
   "cell_type": "code",
   "execution_count": 4,
   "metadata": {
    "hidden": true
   },
   "outputs": [],
   "source": [
    "#setting indexes to 'tconst' for each dataset to prep for inner join\n",
    "imdb_titles.set_index('tconst', inplace=True)\n",
    "imdb_ratings.set_index('tconst', inplace=True)"
   ]
  },
  {
   "cell_type": "code",
   "execution_count": 5,
   "metadata": {
    "hidden": true
   },
   "outputs": [
    {
     "data": {
      "text/html": [
       "<div>\n",
       "<style scoped>\n",
       "    .dataframe tbody tr th:only-of-type {\n",
       "        vertical-align: middle;\n",
       "    }\n",
       "\n",
       "    .dataframe tbody tr th {\n",
       "        vertical-align: top;\n",
       "    }\n",
       "\n",
       "    .dataframe thead th {\n",
       "        text-align: right;\n",
       "    }\n",
       "</style>\n",
       "<table border=\"1\" class=\"dataframe\">\n",
       "  <thead>\n",
       "    <tr style=\"text-align: right;\">\n",
       "      <th></th>\n",
       "      <th>primary_title</th>\n",
       "      <th>original_title</th>\n",
       "      <th>start_year</th>\n",
       "      <th>runtime_minutes</th>\n",
       "      <th>genres</th>\n",
       "      <th>averagerating</th>\n",
       "      <th>numvotes</th>\n",
       "    </tr>\n",
       "    <tr>\n",
       "      <th>tconst</th>\n",
       "      <th></th>\n",
       "      <th></th>\n",
       "      <th></th>\n",
       "      <th></th>\n",
       "      <th></th>\n",
       "      <th></th>\n",
       "      <th></th>\n",
       "    </tr>\n",
       "  </thead>\n",
       "  <tbody>\n",
       "    <tr>\n",
       "      <th>tt0063540</th>\n",
       "      <td>Sunghursh</td>\n",
       "      <td>Sunghursh</td>\n",
       "      <td>2013</td>\n",
       "      <td>175.0</td>\n",
       "      <td>Action,Crime,Drama</td>\n",
       "      <td>7.0</td>\n",
       "      <td>77</td>\n",
       "    </tr>\n",
       "    <tr>\n",
       "      <th>tt0066787</th>\n",
       "      <td>One Day Before the Rainy Season</td>\n",
       "      <td>Ashad Ka Ek Din</td>\n",
       "      <td>2019</td>\n",
       "      <td>114.0</td>\n",
       "      <td>Biography,Drama</td>\n",
       "      <td>7.2</td>\n",
       "      <td>43</td>\n",
       "    </tr>\n",
       "  </tbody>\n",
       "</table>\n",
       "</div>"
      ],
      "text/plain": [
       "                             primary_title   original_title  start_year  \\\n",
       "tconst                                                                    \n",
       "tt0063540                        Sunghursh        Sunghursh        2013   \n",
       "tt0066787  One Day Before the Rainy Season  Ashad Ka Ek Din        2019   \n",
       "\n",
       "           runtime_minutes              genres  averagerating  numvotes  \n",
       "tconst                                                                   \n",
       "tt0063540            175.0  Action,Crime,Drama            7.0        77  \n",
       "tt0066787            114.0     Biography,Drama            7.2        43  "
      ]
     },
     "execution_count": 5,
     "metadata": {},
     "output_type": "execute_result"
    }
   ],
   "source": [
    "#joining dfs using inner join to get iMDB movies that contain both titles and ratings\n",
    "imdb_titles_ratings = imdb_titles.join(imdb_ratings, how='inner')\n",
    "\n",
    "imdb_titles_ratings.head(2)"
   ]
  },
  {
   "cell_type": "code",
   "execution_count": 6,
   "metadata": {
    "hidden": true
   },
   "outputs": [
    {
     "name": "stdout",
     "output_type": "stream",
     "text": [
      "<class 'pandas.core.frame.DataFrame'>\n",
      "RangeIndex: 5782 entries, 0 to 5781\n",
      "Data columns (total 8 columns):\n",
      " #   Column             Non-Null Count  Dtype \n",
      "---  ------             --------------  ----- \n",
      " 0   id                 5782 non-null   int64 \n",
      " 1   release_date       5782 non-null   object\n",
      " 2   movie              5782 non-null   object\n",
      " 3   production_budget  5782 non-null   object\n",
      " 4   domestic_gross     5782 non-null   object\n",
      " 5   worldwide_gross    5782 non-null   object\n",
      " 6   budget_clean       5782 non-null   int64 \n",
      " 7   ww_gross_clean     5782 non-null   int64 \n",
      "dtypes: int64(3), object(5)\n",
      "memory usage: 361.5+ KB\n"
     ]
    }
   ],
   "source": [
    "#Function to tranform money columns into cleaned integers dtyes\n",
    "def money_cleaner(df, column_name, new_col_name):\n",
    "    df[new_col_name] = df[column_name].map(lambda x: x.replace('$', ''))\n",
    "    df[new_col_name] = df[new_col_name].map(lambda x: x.replace(',', ''))\n",
    "    df[new_col_name] = pd.to_numeric(df[new_col_name])\n",
    "    \n",
    "    return df[new_col_name]\n",
    "\n",
    "#Cleaning budget column\n",
    "budget_clean = money_cleaner(budget, 'production_budget', 'budget_clean')\n",
    "budget['budget_clean'] = budget_clean\n",
    "\n",
    "#Cleaning world_wide_Gross column\n",
    "worldwide_gross = money_cleaner(budget, 'worldwide_gross', 'ww_gross_clean')\n",
    "budget['ww_gross_clean'] = worldwide_gross\n",
    "\n",
    "budget.info()"
   ]
  },
  {
   "cell_type": "code",
   "execution_count": 7,
   "metadata": {
    "hidden": true
   },
   "outputs": [
    {
     "data": {
      "text/html": [
       "<div>\n",
       "<style scoped>\n",
       "    .dataframe tbody tr th:only-of-type {\n",
       "        vertical-align: middle;\n",
       "    }\n",
       "\n",
       "    .dataframe tbody tr th {\n",
       "        vertical-align: top;\n",
       "    }\n",
       "\n",
       "    .dataframe thead th {\n",
       "        text-align: right;\n",
       "    }\n",
       "</style>\n",
       "<table border=\"1\" class=\"dataframe\">\n",
       "  <thead>\n",
       "    <tr style=\"text-align: right;\">\n",
       "      <th></th>\n",
       "      <th>id</th>\n",
       "      <th>release_date</th>\n",
       "      <th>movie</th>\n",
       "      <th>production_budget</th>\n",
       "      <th>domestic_gross</th>\n",
       "      <th>worldwide_gross</th>\n",
       "      <th>budget_clean</th>\n",
       "      <th>ww_gross_clean</th>\n",
       "      <th>production_profit</th>\n",
       "    </tr>\n",
       "  </thead>\n",
       "  <tbody>\n",
       "    <tr>\n",
       "      <th>0</th>\n",
       "      <td>1</td>\n",
       "      <td>Dec 18, 2009</td>\n",
       "      <td>Avatar</td>\n",
       "      <td>$425,000,000</td>\n",
       "      <td>$760,507,625</td>\n",
       "      <td>$2,776,345,279</td>\n",
       "      <td>425000000</td>\n",
       "      <td>2776345279</td>\n",
       "      <td>2351345279</td>\n",
       "    </tr>\n",
       "    <tr>\n",
       "      <th>1</th>\n",
       "      <td>2</td>\n",
       "      <td>May 20, 2011</td>\n",
       "      <td>Pirates of the Caribbean: On Stranger Tides</td>\n",
       "      <td>$410,600,000</td>\n",
       "      <td>$241,063,875</td>\n",
       "      <td>$1,045,663,875</td>\n",
       "      <td>410600000</td>\n",
       "      <td>1045663875</td>\n",
       "      <td>635063875</td>\n",
       "    </tr>\n",
       "  </tbody>\n",
       "</table>\n",
       "</div>"
      ],
      "text/plain": [
       "   id  release_date                                        movie  \\\n",
       "0   1  Dec 18, 2009                                       Avatar   \n",
       "1   2  May 20, 2011  Pirates of the Caribbean: On Stranger Tides   \n",
       "\n",
       "  production_budget domestic_gross worldwide_gross  budget_clean  \\\n",
       "0      $425,000,000   $760,507,625  $2,776,345,279     425000000   \n",
       "1      $410,600,000   $241,063,875  $1,045,663,875     410600000   \n",
       "\n",
       "   ww_gross_clean  production_profit  \n",
       "0      2776345279         2351345279  \n",
       "1      1045663875          635063875  "
      ]
     },
     "execution_count": 7,
     "metadata": {},
     "output_type": "execute_result"
    }
   ],
   "source": [
    "#Creates a production_profit column to determine how much profit each movie made\n",
    "#after budget accounted for\n",
    "budget['production_profit'] = budget['ww_gross_clean'] - budget['budget_clean']\n",
    "budget.head(2)"
   ]
  },
  {
   "cell_type": "code",
   "execution_count": 8,
   "metadata": {
    "hidden": true
   },
   "outputs": [
    {
     "data": {
      "text/html": [
       "<div>\n",
       "<style scoped>\n",
       "    .dataframe tbody tr th:only-of-type {\n",
       "        vertical-align: middle;\n",
       "    }\n",
       "\n",
       "    .dataframe tbody tr th {\n",
       "        vertical-align: top;\n",
       "    }\n",
       "\n",
       "    .dataframe thead th {\n",
       "        text-align: right;\n",
       "    }\n",
       "</style>\n",
       "<table border=\"1\" class=\"dataframe\">\n",
       "  <thead>\n",
       "    <tr style=\"text-align: right;\">\n",
       "      <th></th>\n",
       "      <th>primary_title</th>\n",
       "      <th>original_title</th>\n",
       "      <th>start_year</th>\n",
       "      <th>runtime_minutes</th>\n",
       "      <th>genres</th>\n",
       "      <th>averagerating</th>\n",
       "      <th>numvotes</th>\n",
       "    </tr>\n",
       "    <tr>\n",
       "      <th>tconst</th>\n",
       "      <th></th>\n",
       "      <th></th>\n",
       "      <th></th>\n",
       "      <th></th>\n",
       "      <th></th>\n",
       "      <th></th>\n",
       "      <th></th>\n",
       "    </tr>\n",
       "  </thead>\n",
       "  <tbody>\n",
       "    <tr>\n",
       "      <th>tt0063540</th>\n",
       "      <td>Sunghursh</td>\n",
       "      <td>Sunghursh</td>\n",
       "      <td>2013</td>\n",
       "      <td>175.0</td>\n",
       "      <td>Action,Crime,Drama</td>\n",
       "      <td>7.0</td>\n",
       "      <td>77</td>\n",
       "    </tr>\n",
       "    <tr>\n",
       "      <th>tt0066787</th>\n",
       "      <td>One Day Before the Rainy Season</td>\n",
       "      <td>Ashad Ka Ek Din</td>\n",
       "      <td>2019</td>\n",
       "      <td>114.0</td>\n",
       "      <td>Biography,Drama</td>\n",
       "      <td>7.2</td>\n",
       "      <td>43</td>\n",
       "    </tr>\n",
       "  </tbody>\n",
       "</table>\n",
       "</div>"
      ],
      "text/plain": [
       "                             primary_title   original_title  start_year  \\\n",
       "tconst                                                                    \n",
       "tt0063540                        Sunghursh        Sunghursh        2013   \n",
       "tt0066787  One Day Before the Rainy Season  Ashad Ka Ek Din        2019   \n",
       "\n",
       "           runtime_minutes              genres  averagerating  numvotes  \n",
       "tconst                                                                   \n",
       "tt0063540            175.0  Action,Crime,Drama            7.0        77  \n",
       "tt0066787            114.0     Biography,Drama            7.2        43  "
      ]
     },
     "execution_count": 8,
     "metadata": {},
     "output_type": "execute_result"
    }
   ],
   "source": [
    "imdb_titles_ratings.head(2)"
   ]
  },
  {
   "cell_type": "code",
   "execution_count": 9,
   "metadata": {
    "hidden": true
   },
   "outputs": [
    {
     "data": {
      "text/html": [
       "<div>\n",
       "<style scoped>\n",
       "    .dataframe tbody tr th:only-of-type {\n",
       "        vertical-align: middle;\n",
       "    }\n",
       "\n",
       "    .dataframe tbody tr th {\n",
       "        vertical-align: top;\n",
       "    }\n",
       "\n",
       "    .dataframe thead th {\n",
       "        text-align: right;\n",
       "    }\n",
       "</style>\n",
       "<table border=\"1\" class=\"dataframe\">\n",
       "  <thead>\n",
       "    <tr style=\"text-align: right;\">\n",
       "      <th></th>\n",
       "      <th>primary_title</th>\n",
       "      <th>original_title</th>\n",
       "      <th>start_year</th>\n",
       "      <th>runtime_minutes</th>\n",
       "      <th>genres</th>\n",
       "      <th>averagerating</th>\n",
       "      <th>numvotes</th>\n",
       "      <th>id</th>\n",
       "      <th>release_date</th>\n",
       "      <th>movie</th>\n",
       "      <th>production_budget</th>\n",
       "      <th>domestic_gross</th>\n",
       "      <th>worldwide_gross</th>\n",
       "      <th>budget_clean</th>\n",
       "      <th>ww_gross_clean</th>\n",
       "      <th>production_profit</th>\n",
       "    </tr>\n",
       "  </thead>\n",
       "  <tbody>\n",
       "    <tr>\n",
       "      <th>0</th>\n",
       "      <td>Foodfight!</td>\n",
       "      <td>Foodfight!</td>\n",
       "      <td>2012</td>\n",
       "      <td>91.0</td>\n",
       "      <td>Action,Animation,Comedy</td>\n",
       "      <td>1.9</td>\n",
       "      <td>8248</td>\n",
       "      <td>26</td>\n",
       "      <td>Dec 31, 2012</td>\n",
       "      <td>Foodfight!</td>\n",
       "      <td>$45,000,000</td>\n",
       "      <td>$0</td>\n",
       "      <td>$73,706</td>\n",
       "      <td>45000000</td>\n",
       "      <td>73706</td>\n",
       "      <td>-44926294</td>\n",
       "    </tr>\n",
       "    <tr>\n",
       "      <th>1</th>\n",
       "      <td>The Overnight</td>\n",
       "      <td>The Overnight</td>\n",
       "      <td>2010</td>\n",
       "      <td>88.0</td>\n",
       "      <td>NaN</td>\n",
       "      <td>7.5</td>\n",
       "      <td>24</td>\n",
       "      <td>21</td>\n",
       "      <td>Jun 19, 2015</td>\n",
       "      <td>The Overnight</td>\n",
       "      <td>$200,000</td>\n",
       "      <td>$1,109,808</td>\n",
       "      <td>$1,165,996</td>\n",
       "      <td>200000</td>\n",
       "      <td>1165996</td>\n",
       "      <td>965996</td>\n",
       "    </tr>\n",
       "  </tbody>\n",
       "</table>\n",
       "</div>"
      ],
      "text/plain": [
       "   primary_title original_title  start_year  runtime_minutes  \\\n",
       "0     Foodfight!     Foodfight!        2012             91.0   \n",
       "1  The Overnight  The Overnight        2010             88.0   \n",
       "\n",
       "                    genres  averagerating  numvotes  id  release_date  \\\n",
       "0  Action,Animation,Comedy            1.9      8248  26  Dec 31, 2012   \n",
       "1                      NaN            7.5        24  21  Jun 19, 2015   \n",
       "\n",
       "           movie production_budget domestic_gross worldwide_gross  \\\n",
       "0     Foodfight!       $45,000,000             $0         $73,706   \n",
       "1  The Overnight          $200,000     $1,109,808      $1,165,996   \n",
       "\n",
       "   budget_clean  ww_gross_clean  production_profit  \n",
       "0      45000000           73706          -44926294  \n",
       "1        200000         1165996             965996  "
      ]
     },
     "execution_count": 9,
     "metadata": {},
     "output_type": "execute_result"
    }
   ],
   "source": [
    "#Merges the iMDB databases w/ financial info for more complete dataset\n",
    "\n",
    "movies_df = pd.merge(imdb_titles_ratings, budget, right_on='movie', left_on='original_title')\n",
    "movies_df.head(2)"
   ]
  },
  {
   "cell_type": "markdown",
   "metadata": {
    "heading_collapsed": true
   },
   "source": [
    "## Cleaning Data Table"
   ]
  },
  {
   "cell_type": "code",
   "execution_count": 10,
   "metadata": {
    "hidden": true
   },
   "outputs": [
    {
     "name": "stdout",
     "output_type": "stream",
     "text": [
      "<class 'pandas.core.frame.DataFrame'>\n",
      "Int64Index: 2638 entries, 0 to 2637\n",
      "Data columns (total 16 columns):\n",
      " #   Column             Non-Null Count  Dtype  \n",
      "---  ------             --------------  -----  \n",
      " 0   primary_title      2638 non-null   object \n",
      " 1   original_title     2638 non-null   object \n",
      " 2   start_year         2638 non-null   int64  \n",
      " 3   runtime_minutes    2532 non-null   float64\n",
      " 4   genres             2633 non-null   object \n",
      " 5   averagerating      2638 non-null   float64\n",
      " 6   numvotes           2638 non-null   int64  \n",
      " 7   id                 2638 non-null   int64  \n",
      " 8   release_date       2638 non-null   object \n",
      " 9   movie              2638 non-null   object \n",
      " 10  production_budget  2638 non-null   object \n",
      " 11  domestic_gross     2638 non-null   object \n",
      " 12  worldwide_gross    2638 non-null   object \n",
      " 13  budget_clean       2638 non-null   int64  \n",
      " 14  ww_gross_clean     2638 non-null   int64  \n",
      " 15  production_profit  2638 non-null   int64  \n",
      "dtypes: float64(2), int64(6), object(8)\n",
      "memory usage: 350.4+ KB\n"
     ]
    }
   ],
   "source": [
    "#5 items w/o genres; 106 items w/o runtime; 2638 items total\n",
    "movies_df.info()\n",
    "\n",
    "#since there are only 5 items w/o genre, items are dropped. Brings total to 2633\n",
    "movies_df.dropna(subset=['genres'], inplace=True)\n",
    "\n",
    "#runtime will not be used in final analysis, so no cleaning will be performed \n",
    "#on items "
   ]
  },
  {
   "cell_type": "code",
   "execution_count": 11,
   "metadata": {
    "hidden": true
   },
   "outputs": [],
   "source": [
    "# There are 541 titles that are duplicates in the data frame, 2633 total\n",
    "movies_df.duplicated(subset='primary_title').sum()\n",
    "\n",
    "#Creates new series with booleans to see if entry is duplicate\n",
    "movies_df['duplicates'] = movies_df.duplicated(subset='primary_title')\n"
   ]
  },
  {
   "cell_type": "code",
   "execution_count": 12,
   "metadata": {
    "hidden": true
   },
   "outputs": [
    {
     "data": {
      "text/plain": [
       "(2092, 17)"
      ]
     },
     "execution_count": 12,
     "metadata": {},
     "output_type": "execute_result"
    }
   ],
   "source": [
    "#drops duplicat entries while keeping first entry (2633-541 = 2092)\n",
    "movies_df.drop_duplicates(keep='first', subset='primary_title', inplace=True)\n",
    "\n",
    "#Sucessfully dropped duplicate entries\n",
    "movies_df.shape"
   ]
  },
  {
   "cell_type": "code",
   "execution_count": 33,
   "metadata": {
    "hidden": true
   },
   "outputs": [],
   "source": [
    "#the start_year column is misleading. It does not always represent the actual \n",
    "#release date (e.g., Action Jackson came out in 1988, but start date is 2014)\n",
    "\n",
    "#One solution is to convert the release date to datetime in a new column\n",
    "movies_df['date_released'] = pd.to_datetime(movies_df['release_date'])\n",
    "\n",
    "#Another solution create a column with only the year and overwrite start_year\n",
    "movies_df['start_year'] = movies_df['release_date'].map(lambda x: x[-4:])\n",
    "\n",
    "#The last step is to convert the column into an int64 dtype\n",
    "movies_df['start_year'] = pd.to_numeric(movies_df['start_year'])\n"
   ]
  },
  {
   "cell_type": "markdown",
   "metadata": {
    "heading_collapsed": true
   },
   "source": [
    "## Creating Top 100 Data Table"
   ]
  },
  {
   "cell_type": "code",
   "execution_count": 36,
   "metadata": {
    "hidden": true
   },
   "outputs": [
    {
     "data": {
      "text/plain": [
       "(100, 10)"
      ]
     },
     "execution_count": 36,
     "metadata": {},
     "output_type": "execute_result"
    }
   ],
   "source": [
    "#organizing df for top 100 worldwide grossing films\n",
    "top_100_df = movies_df.sort_values(by='ww_gross_clean', ascending=False)[:100].copy()\n",
    "\n",
    "#cleaning up the df to only include necessary columns\n",
    "top_100_df.drop(['original_title', 'runtime_minutes', 'id', 'movie', 'production_budget', 'worldwide_gross', 'duplicates', 'release_date'], axis=1, inplace=True)\n",
    "\n",
    "top_100_df.shape"
   ]
  },
  {
   "cell_type": "markdown",
   "metadata": {
    "heading_collapsed": true
   },
   "source": [
    "## Creating Top 2021 Movies Table Using Webscraping"
   ]
  },
  {
   "cell_type": "code",
   "execution_count": 55,
   "metadata": {
    "hidden": true
   },
   "outputs": [],
   "source": [
    "#Using webscraping to pull the info of the top films of 2021 using \n",
    "#Box Office MoJo\n",
    "\n",
    "from bs4 import BeautifulSoup\n",
    "import requests\n",
    "html_page = requests.get(\"https://www.boxofficemojo.com/year/2021/?ref_=bo_lnav_hm_shrt\")\n",
    "\n",
    "soup = BeautifulSoup(html_page.content, 'html.parser')\n"
   ]
  },
  {
   "cell_type": "code",
   "execution_count": 56,
   "metadata": {
    "hidden": true
   },
   "outputs": [
    {
     "data": {
      "text/plain": [
       "200"
      ]
     },
     "execution_count": 56,
     "metadata": {},
     "output_type": "execute_result"
    }
   ],
   "source": [
    "#finding relevant division and creating container\n",
    "table = soup.find('div', id='table')\n",
    "\n",
    "#seperates all the relevant rows with movie data from table headers\n",
    "table_rows = table.findAll('tr')[1:]\n",
    "\n",
    "#length outputs 200 items, which corresponds to the 200 items on the website\n",
    "len(table_rows)"
   ]
  },
  {
   "cell_type": "code",
   "execution_count": 352,
   "metadata": {
    "hidden": true
   },
   "outputs": [
    {
     "data": {
      "text/plain": [
       "<tr><td class=\"a-text-right mojo-header-column mojo-truncate mojo-field-type-rank mojo-sort-column\">1</td><td class=\"a-text-left mojo-field-type-release mojo-cell-wide\"><a class=\"a-link-normal\" href=\"/release/rl3490022913/?ref_=bo_yld_table_1\">Shang-Chi and the Legend of the Ten Rings</a></td><td class=\"a-text-left mojo-field-type-genre hidden\">-</td><td class=\"a-text-right mojo-field-type-money hidden\">-</td><td class=\"a-text-right mojo-field-type-duration hidden\">-</td><td class=\"a-text-right mojo-field-type-money mojo-estimatable\">$223,152,296</td><td class=\"a-text-right mojo-field-type-positive_integer\">4,300</td><td class=\"a-text-right mojo-field-type-money mojo-estimatable\">$223,152,296</td><td class=\"a-text-left mojo-field-type-date a-nowrap\">Sep 3</td><td class=\"a-text-left mojo-field-type-studio\"><a class=\"a-link-normal\" href=\"https://pro.imdb.com/company/co0226183/boxoffice/?view=releases&amp;ref_=mojo_yld_table_1&amp;rf=mojo_yld_table_1\" rel=\"noopener\" target=\"_blank\">Walt Disney Studios Motion Pictures<svg class=\"mojo-new-window-svg\" viewbox=\"0 0 32 32\" xmlns=\"http://www.w3.org/2000/svg\">\n",
       "<path d=\"M24,15.57251l3,3V23.5A3.50424,3.50424,0,0,1,23.5,27H8.5A3.50424,3.50424,0,0,1,5,23.5V8.5A3.50424,3.50424,0,0,1,8.5,5h4.92755l3,3H8.5a.50641.50641,0,0,0-.5.5v15a.50641.50641,0,0,0,.5.5h15a.50641.50641,0,0,0,.5-.5ZM19.81952,8.56372,12.8844,17.75a.49989.49989,0,0,0,.04547.65479l.66534.66528a.49983.49983,0,0,0,.65479.04553l9.18628-6.93518,2.12579,2.12585a.5.5,0,0,0,.84741-.27526l1.48273-9.35108a.50006.50006,0,0,0-.57214-.57214L17.969,5.59058a.5.5,0,0,0-.27526.84741Z\"></path>\n",
       "</svg></a></td><td class=\"a-text-right mojo-field-type-boolean hidden\">false</td></tr>"
      ]
     },
     "execution_count": 352,
     "metadata": {},
     "output_type": "execute_result"
    }
   ],
   "source": [
    "#Now to extract information from the first row to serve as a template for\n",
    "#other rows \n",
    "table_rows[0]"
   ]
  },
  {
   "cell_type": "code",
   "execution_count": 57,
   "metadata": {
    "hidden": true
   },
   "outputs": [
    {
     "data": {
      "text/plain": [
       "'1'"
      ]
     },
     "execution_count": 57,
     "metadata": {},
     "output_type": "execute_result"
    }
   ],
   "source": [
    "#finding rank\n",
    "rank = table_rows[0].find('td', class_=\"a-text-right mojo-header-column mojo-truncate mojo-field-type-rank mojo-sort-column\").text\n",
    "rank"
   ]
  },
  {
   "cell_type": "code",
   "execution_count": 58,
   "metadata": {
    "hidden": true
   },
   "outputs": [
    {
     "data": {
      "text/plain": [
       "'Shang-Chi and the Legend of the Ten Rings'"
      ]
     },
     "execution_count": 58,
     "metadata": {},
     "output_type": "execute_result"
    }
   ],
   "source": [
    "#finding title\n",
    "title = table_rows[0].find('td', class_= \"a-text-left mojo-field-type-release mojo-cell-wide\").text\n",
    "title"
   ]
  },
  {
   "cell_type": "code",
   "execution_count": 59,
   "metadata": {
    "hidden": true
   },
   "outputs": [
    {
     "data": {
      "text/plain": [
       "'$223,152,296'"
      ]
     },
     "execution_count": 59,
     "metadata": {},
     "output_type": "execute_result"
    }
   ],
   "source": [
    "#finding amount grossed\n",
    "gross = table_rows[0].find('td', class_ = \"a-text-right mojo-field-type-money mojo-estimatable\").text\n",
    "gross"
   ]
  },
  {
   "cell_type": "code",
   "execution_count": 60,
   "metadata": {
    "hidden": true
   },
   "outputs": [
    {
     "data": {
      "text/plain": [
       "'Sep 3'"
      ]
     },
     "execution_count": 60,
     "metadata": {},
     "output_type": "execute_result"
    }
   ],
   "source": [
    "#finding release data\n",
    "release_date = table_rows[0].find('td', class_ = \"a-text-left mojo-field-type-date a-nowrap\").text\n",
    "release_date"
   ]
  },
  {
   "cell_type": "code",
   "execution_count": 61,
   "metadata": {
    "hidden": true
   },
   "outputs": [
    {
     "data": {
      "text/plain": [
       "'Walt Disney Studios Motion Pictures'"
      ]
     },
     "execution_count": 61,
     "metadata": {},
     "output_type": "execute_result"
    }
   ],
   "source": [
    "#finding studio\n",
    "studio =  table_rows[0].find('td',class_ = \"a-text-left mojo-field-type-studio\").text.strip()\n",
    "studio"
   ]
  },
  {
   "cell_type": "code",
   "execution_count": 62,
   "metadata": {
    "hidden": true
   },
   "outputs": [],
   "source": [
    "def get_movie_data(movie_table):\n",
    "    movie_data = []\n",
    "    for row in movie_table:\n",
    "        rank = row.find('td', class_=\"a-text-right mojo-header-column mojo-truncate mojo-field-type-rank mojo-sort-column\").text\n",
    "        title = row.find('td', class_= \"a-text-left mojo-field-type-release mojo-cell-wide\").text\n",
    "        gross = row.find('td', class_ = \"a-text-right mojo-field-type-money mojo-estimatable\").text\n",
    "        release_date = row.find('td', class_ = \"a-text-left mojo-field-type-date a-nowrap\").text\n",
    "        studio = row.find('td',class_ = \"a-text-left mojo-field-type-studio\").text.strip()\n",
    "        \n",
    "        movie_data.append({'Rank': rank, 'Title': title, 'Gross': gross, \n",
    "                           'Release Date': release_date, 'Studio': studio})\n",
    "    return movie_data"
   ]
  },
  {
   "cell_type": "code",
   "execution_count": 63,
   "metadata": {
    "hidden": true
   },
   "outputs": [],
   "source": [
    "movie_data = get_movie_data(table_rows)"
   ]
  },
  {
   "cell_type": "code",
   "execution_count": 66,
   "metadata": {
    "hidden": true
   },
   "outputs": [],
   "source": [
    "rankings_2021_df = pd.DataFrame(movie_data)\n"
   ]
  },
  {
   "cell_type": "code",
   "execution_count": 68,
   "metadata": {
    "hidden": true
   },
   "outputs": [
    {
     "data": {
      "text/html": [
       "<div>\n",
       "<style scoped>\n",
       "    .dataframe tbody tr th:only-of-type {\n",
       "        vertical-align: middle;\n",
       "    }\n",
       "\n",
       "    .dataframe tbody tr th {\n",
       "        vertical-align: top;\n",
       "    }\n",
       "\n",
       "    .dataframe thead th {\n",
       "        text-align: right;\n",
       "    }\n",
       "</style>\n",
       "<table border=\"1\" class=\"dataframe\">\n",
       "  <thead>\n",
       "    <tr style=\"text-align: right;\">\n",
       "      <th></th>\n",
       "      <th>Rank</th>\n",
       "      <th>Title</th>\n",
       "      <th>Gross</th>\n",
       "      <th>Release Date</th>\n",
       "      <th>Studio</th>\n",
       "      <th>Gross_Clean</th>\n",
       "    </tr>\n",
       "  </thead>\n",
       "  <tbody>\n",
       "    <tr>\n",
       "      <th>0</th>\n",
       "      <td>1</td>\n",
       "      <td>Shang-Chi and the Legend of the Ten Rings</td>\n",
       "      <td>$223,152,296</td>\n",
       "      <td>Sep 3</td>\n",
       "      <td>Walt Disney Studios Motion Pictures</td>\n",
       "      <td>223152296</td>\n",
       "    </tr>\n",
       "    <tr>\n",
       "      <th>1</th>\n",
       "      <td>2</td>\n",
       "      <td>Venom: Let There Be Carnage</td>\n",
       "      <td>$192,114,061</td>\n",
       "      <td>Oct 1</td>\n",
       "      <td>Sony Pictures Entertainment (SPE)</td>\n",
       "      <td>192114061</td>\n",
       "    </tr>\n",
       "    <tr>\n",
       "      <th>2</th>\n",
       "      <td>3</td>\n",
       "      <td>Black Widow</td>\n",
       "      <td>$183,651,655</td>\n",
       "      <td>Jul 9</td>\n",
       "      <td>Walt Disney Studios Motion Pictures</td>\n",
       "      <td>183651655</td>\n",
       "    </tr>\n",
       "    <tr>\n",
       "      <th>3</th>\n",
       "      <td>4</td>\n",
       "      <td>F9: The Fast Saga</td>\n",
       "      <td>$173,005,945</td>\n",
       "      <td>Jun 25</td>\n",
       "      <td>Universal Pictures</td>\n",
       "      <td>173005945</td>\n",
       "    </tr>\n",
       "    <tr>\n",
       "      <th>4</th>\n",
       "      <td>5</td>\n",
       "      <td>A Quiet Place Part II</td>\n",
       "      <td>$160,072,261</td>\n",
       "      <td>May 28</td>\n",
       "      <td>Paramount Pictures</td>\n",
       "      <td>160072261</td>\n",
       "    </tr>\n",
       "  </tbody>\n",
       "</table>\n",
       "</div>"
      ],
      "text/plain": [
       "  Rank                                      Title         Gross Release Date  \\\n",
       "0    1  Shang-Chi and the Legend of the Ten Rings  $223,152,296        Sep 3   \n",
       "1    2                Venom: Let There Be Carnage  $192,114,061        Oct 1   \n",
       "2    3                                Black Widow  $183,651,655        Jul 9   \n",
       "3    4                          F9: The Fast Saga  $173,005,945       Jun 25   \n",
       "4    5                      A Quiet Place Part II  $160,072,261       May 28   \n",
       "\n",
       "                                Studio  Gross_Clean  \n",
       "0  Walt Disney Studios Motion Pictures    223152296  \n",
       "1    Sony Pictures Entertainment (SPE)    192114061  \n",
       "2  Walt Disney Studios Motion Pictures    183651655  \n",
       "3                   Universal Pictures    173005945  \n",
       "4                   Paramount Pictures    160072261  "
      ]
     },
     "execution_count": 68,
     "metadata": {},
     "output_type": "execute_result"
    }
   ],
   "source": [
    "#applying money_cleaner function to gross column\n",
    "gross_clean = money_cleaner(rankings_2021_df, 'Gross', 'Gross_Clean')\n",
    "\n",
    "#adds column to existing df\n",
    "rankings_2021_df['Gross_Clean'] = gross_clean\n",
    "rankings_2021_df.head()"
   ]
  },
  {
   "cell_type": "markdown",
   "metadata": {},
   "source": [
    "# Preliminary Analysis: Getting Descriptive Statistics"
   ]
  },
  {
   "cell_type": "markdown",
   "metadata": {},
   "source": [
    "## What percent of movies have made between 2010 and 2019? "
   ]
  },
  {
   "cell_type": "code",
   "execution_count": 46,
   "metadata": {},
   "outputs": [
    {
     "data": {
      "text/plain": [
       "0.37189292543021035"
      ]
     },
     "execution_count": 46,
     "metadata": {},
     "output_type": "execute_result"
    }
   ],
   "source": [
    "\n",
    "#filtering based on start year, currently 2092 entries\n",
    "filt = (movies_df['start_year']>=2015)\n",
    "\n",
    "movies_df.loc[filt]\n",
    "\n",
    "#1795 entries after the filter for after 2010 = 86% of movies in df\n",
    "#778 for entries for after 2015 = 37% of movies in df\n",
    "\n"
   ]
  },
  {
   "cell_type": "markdown",
   "metadata": {
    "heading_collapsed": true
   },
   "source": [
    "## Of the top 100 grossing films, how many came out since 2015?"
   ]
  },
  {
   "cell_type": "code",
   "execution_count": 54,
   "metadata": {
    "hidden": true
   },
   "outputs": [
    {
     "data": {
      "text/plain": [
       "(98, 10)"
      ]
     },
     "execution_count": 54,
     "metadata": {},
     "output_type": "execute_result"
    }
   ],
   "source": [
    "#creating filter \n",
    "filt = (top_100_df['start_year'] >= 2010)\n",
    "\n",
    "top_100_df.loc[filt].shape\n",
    "\n",
    "#48 of the top 100 came out between 2015 and 2019\n",
    "#98 of the top 100 came out in the last 10 years\n",
    "#only one entry before 2000 and one entry from 2005. \n"
   ]
  },
  {
   "cell_type": "markdown",
   "metadata": {
    "heading_collapsed": true
   },
   "source": [
    "## Which studios have performed the best this year? How much have the grossed?"
   ]
  },
  {
   "cell_type": "code",
   "execution_count": 71,
   "metadata": {
    "hidden": true
   },
   "outputs": [
    {
     "data": {
      "text/html": [
       "<div>\n",
       "<style scoped>\n",
       "    .dataframe tbody tr th:only-of-type {\n",
       "        vertical-align: middle;\n",
       "    }\n",
       "\n",
       "    .dataframe tbody tr th {\n",
       "        vertical-align: top;\n",
       "    }\n",
       "\n",
       "    .dataframe thead th {\n",
       "        text-align: right;\n",
       "    }\n",
       "</style>\n",
       "<table border=\"1\" class=\"dataframe\">\n",
       "  <thead>\n",
       "    <tr style=\"text-align: right;\">\n",
       "      <th></th>\n",
       "      <th>Gross_Clean</th>\n",
       "    </tr>\n",
       "    <tr>\n",
       "      <th>Studio</th>\n",
       "      <th></th>\n",
       "    </tr>\n",
       "  </thead>\n",
       "  <tbody>\n",
       "    <tr>\n",
       "      <th>Walt Disney Studios Motion Pictures</th>\n",
       "      <td>665007950</td>\n",
       "    </tr>\n",
       "    <tr>\n",
       "      <th>Universal Pictures</th>\n",
       "      <td>568362680</td>\n",
       "    </tr>\n",
       "    <tr>\n",
       "      <th>Warner Bros.</th>\n",
       "      <td>549557233</td>\n",
       "    </tr>\n",
       "    <tr>\n",
       "      <th>Sony Pictures Entertainment (SPE)</th>\n",
       "      <td>262300507</td>\n",
       "    </tr>\n",
       "    <tr>\n",
       "      <th>Paramount Pictures</th>\n",
       "      <td>229508894</td>\n",
       "    </tr>\n",
       "  </tbody>\n",
       "</table>\n",
       "</div>"
      ],
      "text/plain": [
       "                                     Gross_Clean\n",
       "Studio                                          \n",
       "Walt Disney Studios Motion Pictures    665007950\n",
       "Universal Pictures                     568362680\n",
       "Warner Bros.                           549557233\n",
       "Sony Pictures Entertainment (SPE)      262300507\n",
       "Paramount Pictures                     229508894"
      ]
     },
     "execution_count": 71,
     "metadata": {},
     "output_type": "execute_result"
    }
   ],
   "source": [
    "#sorts by the studio name and then sums the values of total gross per studio\n",
    "studio_gross = rankings_2021_df.groupby('Studio').sum('Gross_Clean').sort_values(by='Gross_Clean', ascending=False)\n",
    "\n",
    "studio_gross.head()\n",
    "\n",
    "#Based of this:\n",
    "## Disney has made: $665,007,950\n",
    "## Universal has made: $568,362,680\n",
    "## Warner Bro's has made: $549,557,233\n",
    "## Sony Pictures has made: $262,300,507\n",
    "## Paramount Pictures has made: $229,508,894"
   ]
  },
  {
   "cell_type": "code",
   "execution_count": 79,
   "metadata": {
    "hidden": true
   },
   "outputs": [
    {
     "data": {
      "image/png": "[encoded data removed]",
      "text/plain": [
       "<Figure size 1080x432 with 1 Axes>"
      ]
     },
     "metadata": {
      "needs_background": "light"
     },
     "output_type": "display_data"
    }
   ],
   "source": [
    "#Creates horizontal bargraph visualiation\n",
    "ax = studio_gross[:5].plot(kind='barh', figsize=(15, 6))\n",
    "#sns.barplot(data=studio_gross, x=studio_gross.index[:5], y=studio_gross['Gross_Clean'][:5])\n",
    "\n",
    "ax.set_xlabel('2021 Domestic Gross Total')\n",
    "ax.xaxis.set_major_formatter(\"{x:,.2f}\")\n",
    "ax.legend(['Domestic Gross in $'], loc='upper right')\n",
    "ax.set_title('Total Grossed per Studio in 2021');"
   ]
  },
  {
   "cell_type": "markdown",
   "metadata": {
    "heading_collapsed": true
   },
   "source": [
    "# Question #1: Which Movie Genres are Most Successful/Profitable?"
   ]
  },
  {
   "cell_type": "markdown",
   "metadata": {
    "hidden": true
   },
   "source": [
    "## Creating Genre Data Frame"
   ]
  },
  {
   "cell_type": "code",
   "execution_count": 131,
   "metadata": {
    "hidden": true
   },
   "outputs": [
    {
     "data": {
      "text/html": [
       "<div>\n",
       "<style scoped>\n",
       "    .dataframe tbody tr th:only-of-type {\n",
       "        vertical-align: middle;\n",
       "    }\n",
       "\n",
       "    .dataframe tbody tr th {\n",
       "        vertical-align: top;\n",
       "    }\n",
       "\n",
       "    .dataframe thead th {\n",
       "        text-align: right;\n",
       "    }\n",
       "</style>\n",
       "<table border=\"1\" class=\"dataframe\">\n",
       "  <thead>\n",
       "    <tr style=\"text-align: right;\">\n",
       "      <th></th>\n",
       "      <th>primary_title</th>\n",
       "      <th>original_title</th>\n",
       "      <th>start_year</th>\n",
       "      <th>runtime_minutes</th>\n",
       "      <th>genres</th>\n",
       "      <th>averagerating</th>\n",
       "      <th>numvotes</th>\n",
       "      <th>id</th>\n",
       "      <th>release_date</th>\n",
       "      <th>movie</th>\n",
       "      <th>production_budget</th>\n",
       "      <th>domestic_gross</th>\n",
       "      <th>worldwide_gross</th>\n",
       "      <th>budget_clean</th>\n",
       "      <th>ww_gross_clean</th>\n",
       "      <th>production_profit</th>\n",
       "      <th>genres_list</th>\n",
       "      <th>duplicates</th>\n",
       "    </tr>\n",
       "  </thead>\n",
       "  <tbody>\n",
       "    <tr>\n",
       "      <th>0</th>\n",
       "      <td>Foodfight!</td>\n",
       "      <td>Foodfight!</td>\n",
       "      <td>2012</td>\n",
       "      <td>91.0</td>\n",
       "      <td>Action,Animation,Comedy</td>\n",
       "      <td>1.9</td>\n",
       "      <td>8248</td>\n",
       "      <td>26</td>\n",
       "      <td>Dec 31, 2012</td>\n",
       "      <td>Foodfight!</td>\n",
       "      <td>$45,000,000</td>\n",
       "      <td>$0</td>\n",
       "      <td>$73,706</td>\n",
       "      <td>45000000</td>\n",
       "      <td>73706</td>\n",
       "      <td>-44926294</td>\n",
       "      <td>Action</td>\n",
       "      <td>False</td>\n",
       "    </tr>\n",
       "    <tr>\n",
       "      <th>0</th>\n",
       "      <td>Foodfight!</td>\n",
       "      <td>Foodfight!</td>\n",
       "      <td>2012</td>\n",
       "      <td>91.0</td>\n",
       "      <td>Action,Animation,Comedy</td>\n",
       "      <td>1.9</td>\n",
       "      <td>8248</td>\n",
       "      <td>26</td>\n",
       "      <td>Dec 31, 2012</td>\n",
       "      <td>Foodfight!</td>\n",
       "      <td>$45,000,000</td>\n",
       "      <td>$0</td>\n",
       "      <td>$73,706</td>\n",
       "      <td>45000000</td>\n",
       "      <td>73706</td>\n",
       "      <td>-44926294</td>\n",
       "      <td>Animation</td>\n",
       "      <td>False</td>\n",
       "    </tr>\n",
       "  </tbody>\n",
       "</table>\n",
       "</div>"
      ],
      "text/plain": [
       "  primary_title original_title  start_year  runtime_minutes  \\\n",
       "0    Foodfight!     Foodfight!        2012             91.0   \n",
       "0    Foodfight!     Foodfight!        2012             91.0   \n",
       "\n",
       "                    genres  averagerating  numvotes  id  release_date  \\\n",
       "0  Action,Animation,Comedy            1.9      8248  26  Dec 31, 2012   \n",
       "0  Action,Animation,Comedy            1.9      8248  26  Dec 31, 2012   \n",
       "\n",
       "        movie production_budget domestic_gross worldwide_gross  budget_clean  \\\n",
       "0  Foodfight!       $45,000,000             $0         $73,706      45000000   \n",
       "0  Foodfight!       $45,000,000             $0         $73,706      45000000   \n",
       "\n",
       "   ww_gross_clean  production_profit genres_list  duplicates  \n",
       "0           73706          -44926294      Action       False  \n",
       "0           73706          -44926294   Animation       False  "
      ]
     },
     "execution_count": 131,
     "metadata": {},
     "output_type": "execute_result"
    }
   ],
   "source": [
    "#Currently movie genres are clumped together and need to be seperated into \n",
    "#distinct rows\n",
    "\n",
    "#Splits/seperates each genre category for each movie/row\n",
    "movies_df['genres_list'] = movies_df['genres'].map(lambda x: x.split(','))\n",
    "movies_df.head(2)\n",
    "\n",
    "#Creates new df with each genre category represented in a row\n",
    "genres_df = movies_df.explode('genres_list')\n",
    "genres_df.head(2)"
   ]
  },
  {
   "cell_type": "markdown",
   "metadata": {
    "hidden": true
   },
   "source": [
    "## Visual #1: Profit of Various Movie Genres"
   ]
  },
  {
   "cell_type": "code",
   "execution_count": 372,
   "metadata": {
    "hidden": true
   },
   "outputs": [
    {
     "data": {
      "image/png": "[encoded data removed]",
      "text/plain": [
       "<Figure size 792x576 with 1 Axes>"
      ]
     },
     "metadata": {
      "needs_background": "light"
     },
     "output_type": "display_data"
    }
   ],
   "source": [
    "#plotting horizontal bar graph\n",
    "\n",
    "ax = sns.barplot(data=genres_df, y='genres_list', x='production_profit')\n",
    "\n",
    "\n",
    "ax.get_figure().set_size_inches((11, 8))\n",
    "\n",
    "##?? HOW to order by profit rather than genre category?? \n",
    "ax.set_xlabel('Production Profit', fontsize=12, fontweight='bold')\n",
    "ax.xaxis.set_major_formatter(\"${x:,.0f}\")\n",
    "\n",
    "##?? HOW to rotate xlabels?\n",
    "\n",
    "ax.set_ylabel(ylabel=None)\n",
    "\n",
    "ax.set_title('Profitability of Various Movie Genres', fontsize=16, fontweight='bold');\n",
    "##link_to_data_vis = https://github.com/flatiron-school/ds-flex-fundamentals-of-data-visualization-2021"
   ]
  },
  {
   "cell_type": "markdown",
   "metadata": {},
   "source": [
    "# Question #2:  What is the average movie profit since 2010?"
   ]
  },
  {
   "cell_type": "markdown",
   "metadata": {},
   "source": [
    "## Visual: Average Movie Profit Broken Down by Year"
   ]
  },
  {
   "cell_type": "code",
   "execution_count": 150,
   "metadata": {},
   "outputs": [
    {
     "data": {
      "text/html": [
       "<div>\n",
       "<style scoped>\n",
       "    .dataframe tbody tr th:only-of-type {\n",
       "        vertical-align: middle;\n",
       "    }\n",
       "\n",
       "    .dataframe tbody tr th {\n",
       "        vertical-align: top;\n",
       "    }\n",
       "\n",
       "    .dataframe thead th {\n",
       "        text-align: right;\n",
       "    }\n",
       "</style>\n",
       "<table border=\"1\" class=\"dataframe\">\n",
       "  <thead>\n",
       "    <tr style=\"text-align: right;\">\n",
       "      <th></th>\n",
       "      <th>primary_title</th>\n",
       "      <th>original_title</th>\n",
       "      <th>start_year</th>\n",
       "      <th>runtime_minutes</th>\n",
       "      <th>genres</th>\n",
       "      <th>averagerating</th>\n",
       "      <th>numvotes</th>\n",
       "      <th>id</th>\n",
       "      <th>release_date</th>\n",
       "      <th>movie</th>\n",
       "      <th>production_budget</th>\n",
       "      <th>domestic_gross</th>\n",
       "      <th>worldwide_gross</th>\n",
       "      <th>budget_clean</th>\n",
       "      <th>ww_gross_clean</th>\n",
       "      <th>production_profit</th>\n",
       "      <th>genres_list</th>\n",
       "      <th>duplicates</th>\n",
       "    </tr>\n",
       "  </thead>\n",
       "  <tbody>\n",
       "    <tr>\n",
       "      <th>0</th>\n",
       "      <td>Foodfight!</td>\n",
       "      <td>Foodfight!</td>\n",
       "      <td>2012</td>\n",
       "      <td>91.0</td>\n",
       "      <td>Action,Animation,Comedy</td>\n",
       "      <td>1.9</td>\n",
       "      <td>8248</td>\n",
       "      <td>26</td>\n",
       "      <td>Dec 31, 2012</td>\n",
       "      <td>Foodfight!</td>\n",
       "      <td>$45,000,000</td>\n",
       "      <td>$0</td>\n",
       "      <td>$73,706</td>\n",
       "      <td>45000000</td>\n",
       "      <td>73706</td>\n",
       "      <td>-44926294</td>\n",
       "      <td>[Action, Animation, Comedy]</td>\n",
       "      <td>False</td>\n",
       "    </tr>\n",
       "    <tr>\n",
       "      <th>2</th>\n",
       "      <td>The Overnight</td>\n",
       "      <td>The Overnight</td>\n",
       "      <td>2015</td>\n",
       "      <td>79.0</td>\n",
       "      <td>Comedy,Mystery</td>\n",
       "      <td>6.1</td>\n",
       "      <td>14828</td>\n",
       "      <td>21</td>\n",
       "      <td>Jun 19, 2015</td>\n",
       "      <td>The Overnight</td>\n",
       "      <td>$200,000</td>\n",
       "      <td>$1,109,808</td>\n",
       "      <td>$1,165,996</td>\n",
       "      <td>200000</td>\n",
       "      <td>1165996</td>\n",
       "      <td>965996</td>\n",
       "      <td>[Comedy, Mystery]</td>\n",
       "      <td>False</td>\n",
       "    </tr>\n",
       "  </tbody>\n",
       "</table>\n",
       "</div>"
      ],
      "text/plain": [
       "   primary_title original_title  start_year  runtime_minutes  \\\n",
       "0     Foodfight!     Foodfight!        2012             91.0   \n",
       "2  The Overnight  The Overnight        2015             79.0   \n",
       "\n",
       "                    genres  averagerating  numvotes  id  release_date  \\\n",
       "0  Action,Animation,Comedy            1.9      8248  26  Dec 31, 2012   \n",
       "2           Comedy,Mystery            6.1     14828  21  Jun 19, 2015   \n",
       "\n",
       "           movie production_budget domestic_gross worldwide_gross  \\\n",
       "0     Foodfight!       $45,000,000             $0         $73,706   \n",
       "2  The Overnight          $200,000     $1,109,808      $1,165,996   \n",
       "\n",
       "   budget_clean  ww_gross_clean  production_profit  \\\n",
       "0      45000000           73706          -44926294   \n",
       "2        200000         1165996             965996   \n",
       "\n",
       "                   genres_list  duplicates  \n",
       "0  [Action, Animation, Comedy]       False  \n",
       "2            [Comedy, Mystery]       False  "
      ]
     },
     "execution_count": 150,
     "metadata": {},
     "output_type": "execute_result"
    }
   ],
   "source": [
    "movies_df.head(2)"
   ]
  },
  {
   "cell_type": "code",
   "execution_count": 83,
   "metadata": {},
   "outputs": [],
   "source": [
    "#Data frame contains years 2010-2019\n",
    "movies_df['start_year'].value_counts()\n",
    "filt=movies_df['start_year']>=2010\n",
    "\n",
    "movies_2010_up = movies_df.loc[filt]"
   ]
  },
  {
   "cell_type": "code",
   "execution_count": 84,
   "metadata": {},
   "outputs": [
    {
     "data": {
      "image/png": "[encoded data removed]",
      "text/plain": [
       "<Figure size 792x360 with 1 Axes>"
      ]
     },
     "metadata": {
      "needs_background": "light"
     },
     "output_type": "display_data"
    }
   ],
   "source": [
    "#Creating barplot to see distribution of movie profit per year\n",
    "\n",
    "fig, ax = plt.subplots(figsize=(11,5))\n",
    "\n",
    "ax = sns.barplot(data=movies_2010_up, x='start_year', y='production_profit')\n",
    "\n",
    "\n",
    "ax.set_xlabel('Release Year', fontsize=12, fontweight='bold')\n",
    "ax.set_ylabel('Average Profit', fontsize=12, fontweight='bold')\n",
    "ax.yaxis.set_major_formatter(\"${x:,.0f}\")\n",
    "\n",
    "\n",
    "ax.set_title('Average Movie Profit Per Year', fontsize=16, fontweight='bold');"
   ]
  },
  {
   "cell_type": "markdown",
   "metadata": {},
   "source": [
    "## Visual: Average Profit and Budget Per Movie"
   ]
  },
  {
   "cell_type": "code",
   "execution_count": 95,
   "metadata": {},
   "outputs": [
    {
     "data": {
      "text/plain": [
       "''"
      ]
     },
     "execution_count": 95,
     "metadata": {},
     "output_type": "execute_result"
    },
    {
     "data": {
      "image/png": "[encoded data removed]",
      "text/plain": [
       "<Figure size 1008x360 with 2 Axes>"
      ]
     },
     "metadata": {
      "needs_background": "light"
     },
     "output_type": "display_data"
    }
   ],
   "source": [
    "fig, axes = plt.subplots(figsize=(14,5), ncols=2)\n",
    "\n",
    "\n",
    "#Average movie profit scatterplot\n",
    "sns.scatterplot(data=movies_df, x='start_year', y='production_profit', \n",
    "                     ax=axes[0], alpha=0.7, s=17)\n",
    "\n",
    "axes[0].set_xlabel('Release Year', fontsize=12, fontweight='bold')\n",
    "axes[0].set_ylabel('Profit', fontsize=12, fontweight='bold')\n",
    "axes[0].yaxis.set_major_formatter(\"${x:,.0f}\")\n",
    "axes[0].set_title('Average Movie Profit Per Year', fontsize=16, fontweight='bold')\n",
    "\n",
    "#Average movie budget per year\n",
    "sns.scatterplot(data=movies_df, x='date_released', y='budget_clean', \n",
    "                     alpha=0.7, s=17, ax=axes[1])\n",
    "\n",
    "axes[1].set_xlabel('Release Year', fontsize=12, fontweight='bold')\n",
    "axes[1].set_ylabel('Budget', fontsize=12, fontweight='bold')\n",
    "axes[1].yaxis.set_major_formatter(\"${x:,.0f}\")\n",
    "axes[1].set_title('Average Movie Budget Per Year', fontsize=16, fontweight='bold');\n",
    "\n",
    "fig.tight_layout();\n",
    ";\n",
    "\n",
    "## HOW to set ylim and zoom in? Can I create a replot here? Do I need to change \n",
    "## date values to integers?"
   ]
  },
  {
   "cell_type": "markdown",
   "metadata": {},
   "source": [
    "# Question #3: What is the average budget per film since 2010?"
   ]
  },
  {
   "cell_type": "markdown",
   "metadata": {},
   "source": [
    "# Question #4: How do ratings affect profitability? "
   ]
  },
  {
   "cell_type": "code",
   "execution_count": 96,
   "metadata": {},
   "outputs": [
    {
     "data": {
      "text/html": [
       "<div>\n",
       "<style scoped>\n",
       "    .dataframe tbody tr th:only-of-type {\n",
       "        vertical-align: middle;\n",
       "    }\n",
       "\n",
       "    .dataframe tbody tr th {\n",
       "        vertical-align: top;\n",
       "    }\n",
       "\n",
       "    .dataframe thead th {\n",
       "        text-align: right;\n",
       "    }\n",
       "</style>\n",
       "<table border=\"1\" class=\"dataframe\">\n",
       "  <thead>\n",
       "    <tr style=\"text-align: right;\">\n",
       "      <th></th>\n",
       "      <th>primary_title</th>\n",
       "      <th>original_title</th>\n",
       "      <th>start_year</th>\n",
       "      <th>runtime_minutes</th>\n",
       "      <th>genres</th>\n",
       "      <th>averagerating</th>\n",
       "      <th>numvotes</th>\n",
       "      <th>id</th>\n",
       "      <th>release_date</th>\n",
       "      <th>movie</th>\n",
       "      <th>production_budget</th>\n",
       "      <th>domestic_gross</th>\n",
       "      <th>worldwide_gross</th>\n",
       "      <th>budget_clean</th>\n",
       "      <th>ww_gross_clean</th>\n",
       "      <th>production_profit</th>\n",
       "      <th>duplicates</th>\n",
       "      <th>date_released</th>\n",
       "    </tr>\n",
       "  </thead>\n",
       "  <tbody>\n",
       "    <tr>\n",
       "      <th>0</th>\n",
       "      <td>Foodfight!</td>\n",
       "      <td>Foodfight!</td>\n",
       "      <td>2012</td>\n",
       "      <td>91.0</td>\n",
       "      <td>Action,Animation,Comedy</td>\n",
       "      <td>1.9</td>\n",
       "      <td>8248</td>\n",
       "      <td>26</td>\n",
       "      <td>Dec 31, 2012</td>\n",
       "      <td>Foodfight!</td>\n",
       "      <td>$45,000,000</td>\n",
       "      <td>$0</td>\n",
       "      <td>$73,706</td>\n",
       "      <td>45000000</td>\n",
       "      <td>73706</td>\n",
       "      <td>-44926294</td>\n",
       "      <td>False</td>\n",
       "      <td>2012-12-31</td>\n",
       "    </tr>\n",
       "    <tr>\n",
       "      <th>2</th>\n",
       "      <td>The Overnight</td>\n",
       "      <td>The Overnight</td>\n",
       "      <td>2015</td>\n",
       "      <td>79.0</td>\n",
       "      <td>Comedy,Mystery</td>\n",
       "      <td>6.1</td>\n",
       "      <td>14828</td>\n",
       "      <td>21</td>\n",
       "      <td>Jun 19, 2015</td>\n",
       "      <td>The Overnight</td>\n",
       "      <td>$200,000</td>\n",
       "      <td>$1,109,808</td>\n",
       "      <td>$1,165,996</td>\n",
       "      <td>200000</td>\n",
       "      <td>1165996</td>\n",
       "      <td>965996</td>\n",
       "      <td>False</td>\n",
       "      <td>2015-06-19</td>\n",
       "    </tr>\n",
       "  </tbody>\n",
       "</table>\n",
       "</div>"
      ],
      "text/plain": [
       "   primary_title original_title  start_year  runtime_minutes  \\\n",
       "0     Foodfight!     Foodfight!        2012             91.0   \n",
       "2  The Overnight  The Overnight        2015             79.0   \n",
       "\n",
       "                    genres  averagerating  numvotes  id  release_date  \\\n",
       "0  Action,Animation,Comedy            1.9      8248  26  Dec 31, 2012   \n",
       "2           Comedy,Mystery            6.1     14828  21  Jun 19, 2015   \n",
       "\n",
       "           movie production_budget domestic_gross worldwide_gross  \\\n",
       "0     Foodfight!       $45,000,000             $0         $73,706   \n",
       "2  The Overnight          $200,000     $1,109,808      $1,165,996   \n",
       "\n",
       "   budget_clean  ww_gross_clean  production_profit  duplicates date_released  \n",
       "0      45000000           73706          -44926294       False    2012-12-31  \n",
       "2        200000         1165996             965996       False    2015-06-19  "
      ]
     },
     "execution_count": 96,
     "metadata": {},
     "output_type": "execute_result"
    }
   ],
   "source": [
    "movies_df.head(2)"
   ]
  },
  {
   "cell_type": "code",
   "execution_count": 262,
   "metadata": {},
   "outputs": [
    {
     "data": {
      "image/png": "[encoded data removed]",
      "text/plain": [
       "<Figure size 792x360 with 1 Axes>"
      ]
     },
     "metadata": {
      "needs_background": "light"
     },
     "output_type": "display_data"
    }
   ],
   "source": [
    "fig, ax = plt.subplots(figsize=(11,5))\n",
    "plt.xticks()\n",
    "ax = sns.barplot(data=movies_df, y='production_profit', x='averagerating')\n",
    "#alpha=0.7, s=27)\n",
    "\n",
    "ax.set_xlabel('Average Rating', fontsize=12, fontweight='bold')\n",
    "ax.set_xticklabels(ax.get_xticklabels(),rotation=90, ha='right')\n",
    "\n",
    "ax.set_ylabel('Profit', fontsize=12, fontweight='bold')\n",
    "ax.yaxis.set_major_formatter(\"${x:,.2f}\")\n",
    "ax.set_title(\"Movie Rating vs Movie Profit\", fontsize=16, fontweight='bold');\n",
    "\n",
    "#HOW to set x-tick labels and number of bins?"
   ]
  },
  {
   "cell_type": "markdown",
   "metadata": {},
   "source": [
    "# Question #4: What are some common traits/characteristics of the top 100 grossing films?"
   ]
  },
  {
   "cell_type": "markdown",
   "metadata": {},
   "source": [
    "## Creating Top 100 Data Frame with Observed Characteristics"
   ]
  },
  {
   "cell_type": "code",
   "execution_count": 305,
   "metadata": {},
   "outputs": [],
   "source": []
  },
  {
   "cell_type": "code",
   "execution_count": 333,
   "metadata": {},
   "outputs": [],
   "source": [
    "#Adding observations into columns: 1.) Is it a part of series/is it a sequel?, \n",
    "# 2.) Is it a superhero movie?, 3.) Is it animated?\n"
   ]
  },
  {
   "cell_type": "code",
   "execution_count": 318,
   "metadata": {},
   "outputs": [],
   "source": [
    "#manually went through the movies and determined if they were a part of a series \n",
    "#or sequl\n",
    "series_or_sequel= [False, True, True, True, True, True,True, True, False, True,\n",
    "                  True, True, False, True, True, True, True, True, True, True,\n",
    "                  True, True, False, True, False, True, True, False, False, True,\n",
    "                  True, False, False, True, True, True, True, True, False, True,\n",
    "                  True, False, True, False, True, False, True, True, True, True,\n",
    "                  False, True, True, True, True, True, True, True, False, True,\n",
    "                  True, False, False, True, True, False, False, True, True, False,\n",
    "                  True, True, False, True, True, False, False, True, True, True,\n",
    "                  False, False, True, True, False, True, True, True, False, False,\n",
    "                  True, False, False, True, False, True, False, False, True, True]\n",
    "#created new column to store values\n",
    "top_100_df['series_or_sequel'] = series_or_sequel\n"
   ]
  },
  {
   "cell_type": "code",
   "execution_count": 329,
   "metadata": {},
   "outputs": [],
   "source": [
    "#manually determing whether it was a hero-related movie or not\n",
    "super_hero_film = [False, True, False, True, True, True, False, False, False, True,\n",
    "               False, False, True, True, True, True, False,True, True, False,\n",
    "               False, False, False, False, False, False, False, False, False, False,\n",
    "               False, False, False, True, False, False, True, False, False, True,\n",
    "               True, False, True, False, True, False, False, True, True, False,\n",
    "                  False, True, False, True, False, True, False, True, False, True,\n",
    "                  False, False, False, False, True, True, False, False, True, False,\n",
    "                  False, False, True, False, True, False, False, False, True, True, \n",
    "                  False, False, True, False, False, True, False, False, False, False,\n",
    "                  False, False, False, False, False, False, False, False, False, True]\n",
    "\n",
    "#creating and adding data to relevant column\n",
    "top_100_df['super_hero_film'] = super_hero_film\n"
   ]
  },
  {
   "cell_type": "code",
   "execution_count": 334,
   "metadata": {},
   "outputs": [],
   "source": [
    "#manually determing whether film was an animated film\n",
    "animation = [False, False, False, False, False, False, False, True, True, True,\n",
    "            False, True, False, False, False, False, False, False, False, True,\n",
    "            False, True, True, True, True, False, True, False, True, False, \n",
    "            False, False, True, False, True, False, False, False, True, False, \n",
    "             False, False, False, False, False, True, False, False, False, False,\n",
    "            False, False, True, False, True, False, True, False, False, False,\n",
    "            False, False, False, False, False, False, False, True, False, False,\n",
    "            False, False, True, False, False, True, True, False, False, False,\n",
    "            False, True, False, True, False, False, True, False, False, True,\n",
    "            False, True, False, True, False, True, True, False, True, False]\n",
    "\n",
    "top_100_df['animation'] = animation\n"
   ]
  },
  {
   "cell_type": "markdown",
   "metadata": {},
   "source": [
    "## Plotting Visuals to Show Distribution of Characteristics "
   ]
  },
  {
   "cell_type": "code",
   "execution_count": 366,
   "metadata": {},
   "outputs": [
    {
     "data": {
      "image/png": "[encoded data removed]",
      "text/plain": [
       "<Figure size 1008x360 with 3 Axes>"
      ]
     },
     "metadata": {
      "needs_background": "light"
     },
     "output_type": "display_data"
    }
   ],
   "source": [
    "fig, axes = plt.subplots(figsize=(14, 5), ncols=3)\n",
    "\n",
    "#Series/Sequel Distribution\n",
    "sns.countplot(data=top_100_df, x='series_or_sequel', ax=axes[0])\n",
    "axes[0].set_xlabel('Part of a Series or Sequel', fontsize=12, fontweight='bold')\n",
    "axes[0].set_ylabel('Percent', fontsize=12, fontweight='bold')\n",
    "axes[0].set_title( 'Top 100 Films that are Sequels', fontsize=14, fontweight='bold')\n",
    "axes[0].set_ylim(0,100)\n",
    "\n",
    "\n",
    "#Superhero Distribution\n",
    "sns.countplot(data=top_100_df, x='super_hero_film', ax=axes[1])\n",
    "axes[1].set_xlabel('Super Hero Film', fontsize=12, fontweight='bold')\n",
    "axes[1].set_ylabel('Percent', fontsize=12, fontweight='bold')\n",
    "axes[1].set_title( 'Top 100 that are Super Hero Films', fontsize=14, fontweight='bold')\n",
    "axes[1].set_ylim(0,100)\n",
    "\n",
    "#Animation Distribution\n",
    "sns.countplot(data=top_100_df, x='animation', ax=axes[2])\n",
    "axes[2].set_xlabel('Animated Film', fontsize=12, fontweight='bold')\n",
    "axes[2].set_ylabel('Percent', fontsize=12, fontweight='bold')\n",
    "axes[2].set_title( 'Top 100 Films that are Animated', fontsize=14, fontweight='bold')\n",
    "axes[2].set_ylim(0,100)\n",
    "\n",
    "fig.tight_layout();\n",
    "\n"
   ]
  },
  {
   "cell_type": "markdown",
   "metadata": {},
   "source": [
    "# Objective 5: What is the average budget of top movies?"
   ]
  },
  {
   "cell_type": "code",
   "execution_count": 322,
   "metadata": {},
   "outputs": [
    {
     "data": {
      "text/html": [
       "<div>\n",
       "<style scoped>\n",
       "    .dataframe tbody tr th:only-of-type {\n",
       "        vertical-align: middle;\n",
       "    }\n",
       "\n",
       "    .dataframe tbody tr th {\n",
       "        vertical-align: top;\n",
       "    }\n",
       "\n",
       "    .dataframe thead th {\n",
       "        text-align: right;\n",
       "    }\n",
       "</style>\n",
       "<table border=\"1\" class=\"dataframe\">\n",
       "  <thead>\n",
       "    <tr style=\"text-align: right;\">\n",
       "      <th></th>\n",
       "      <th>id</th>\n",
       "      <th>release_date</th>\n",
       "      <th>movie</th>\n",
       "      <th>production_budget</th>\n",
       "      <th>domestic_gross</th>\n",
       "      <th>worldwide_gross</th>\n",
       "    </tr>\n",
       "  </thead>\n",
       "  <tbody>\n",
       "    <tr>\n",
       "      <th>0</th>\n",
       "      <td>1</td>\n",
       "      <td>Dec 18, 2009</td>\n",
       "      <td>Avatar</td>\n",
       "      <td>$425,000,000</td>\n",
       "      <td>$760,507,625</td>\n",
       "      <td>$2,776,345,279</td>\n",
       "    </tr>\n",
       "    <tr>\n",
       "      <th>1</th>\n",
       "      <td>2</td>\n",
       "      <td>May 20, 2011</td>\n",
       "      <td>Pirates of the Caribbean: On Stranger Tides</td>\n",
       "      <td>$410,600,000</td>\n",
       "      <td>$241,063,875</td>\n",
       "      <td>$1,045,663,875</td>\n",
       "    </tr>\n",
       "    <tr>\n",
       "      <th>2</th>\n",
       "      <td>3</td>\n",
       "      <td>Jun 7, 2019</td>\n",
       "      <td>Dark Phoenix</td>\n",
       "      <td>$350,000,000</td>\n",
       "      <td>$42,762,350</td>\n",
       "      <td>$149,762,350</td>\n",
       "    </tr>\n",
       "    <tr>\n",
       "      <th>3</th>\n",
       "      <td>4</td>\n",
       "      <td>May 1, 2015</td>\n",
       "      <td>Avengers: Age of Ultron</td>\n",
       "      <td>$330,600,000</td>\n",
       "      <td>$459,005,868</td>\n",
       "      <td>$1,403,013,963</td>\n",
       "    </tr>\n",
       "    <tr>\n",
       "      <th>4</th>\n",
       "      <td>5</td>\n",
       "      <td>Dec 15, 2017</td>\n",
       "      <td>Star Wars Ep. VIII: The Last Jedi</td>\n",
       "      <td>$317,000,000</td>\n",
       "      <td>$620,181,382</td>\n",
       "      <td>$1,316,721,747</td>\n",
       "    </tr>\n",
       "  </tbody>\n",
       "</table>\n",
       "</div>"
      ],
      "text/plain": [
       "   id  release_date                                        movie  \\\n",
       "0   1  Dec 18, 2009                                       Avatar   \n",
       "1   2  May 20, 2011  Pirates of the Caribbean: On Stranger Tides   \n",
       "2   3   Jun 7, 2019                                 Dark Phoenix   \n",
       "3   4   May 1, 2015                      Avengers: Age of Ultron   \n",
       "4   5  Dec 15, 2017            Star Wars Ep. VIII: The Last Jedi   \n",
       "\n",
       "  production_budget domestic_gross worldwide_gross  \n",
       "0      $425,000,000   $760,507,625  $2,776,345,279  \n",
       "1      $410,600,000   $241,063,875  $1,045,663,875  \n",
       "2      $350,000,000    $42,762,350    $149,762,350  \n",
       "3      $330,600,000   $459,005,868  $1,403,013,963  \n",
       "4      $317,000,000   $620,181,382  $1,316,721,747  "
      ]
     },
     "execution_count": 322,
     "metadata": {},
     "output_type": "execute_result"
    }
   ],
   "source": [
    "#Uploads data about movie budgets\n",
    "df = pd.read_csv('zippedData/tn.movie_budgets.csv.gz')\n",
    "df.head()\n"
   ]
  },
  {
   "cell_type": "code",
   "execution_count": 323,
   "metadata": {},
   "outputs": [
    {
     "data": {
      "text/html": [
       "<div>\n",
       "<style scoped>\n",
       "    .dataframe tbody tr th:only-of-type {\n",
       "        vertical-align: middle;\n",
       "    }\n",
       "\n",
       "    .dataframe tbody tr th {\n",
       "        vertical-align: top;\n",
       "    }\n",
       "\n",
       "    .dataframe thead th {\n",
       "        text-align: right;\n",
       "    }\n",
       "</style>\n",
       "<table border=\"1\" class=\"dataframe\">\n",
       "  <thead>\n",
       "    <tr style=\"text-align: right;\">\n",
       "      <th></th>\n",
       "      <th>id</th>\n",
       "      <th>release_date</th>\n",
       "      <th>movie</th>\n",
       "      <th>production_budget</th>\n",
       "      <th>domestic_gross</th>\n",
       "      <th>worldwide_gross</th>\n",
       "      <th>budget_clean</th>\n",
       "      <th>ww_gross_clean</th>\n",
       "    </tr>\n",
       "  </thead>\n",
       "  <tbody>\n",
       "    <tr>\n",
       "      <th>0</th>\n",
       "      <td>1</td>\n",
       "      <td>Dec 18, 2009</td>\n",
       "      <td>Avatar</td>\n",
       "      <td>$425,000,000</td>\n",
       "      <td>$760,507,625</td>\n",
       "      <td>$2,776,345,279</td>\n",
       "      <td>425000000</td>\n",
       "      <td>2776345279</td>\n",
       "    </tr>\n",
       "    <tr>\n",
       "      <th>1</th>\n",
       "      <td>2</td>\n",
       "      <td>May 20, 2011</td>\n",
       "      <td>Pirates of the Caribbean: On Stranger Tides</td>\n",
       "      <td>$410,600,000</td>\n",
       "      <td>$241,063,875</td>\n",
       "      <td>$1,045,663,875</td>\n",
       "      <td>410600000</td>\n",
       "      <td>1045663875</td>\n",
       "    </tr>\n",
       "    <tr>\n",
       "      <th>2</th>\n",
       "      <td>3</td>\n",
       "      <td>Jun 7, 2019</td>\n",
       "      <td>Dark Phoenix</td>\n",
       "      <td>$350,000,000</td>\n",
       "      <td>$42,762,350</td>\n",
       "      <td>$149,762,350</td>\n",
       "      <td>350000000</td>\n",
       "      <td>149762350</td>\n",
       "    </tr>\n",
       "    <tr>\n",
       "      <th>3</th>\n",
       "      <td>4</td>\n",
       "      <td>May 1, 2015</td>\n",
       "      <td>Avengers: Age of Ultron</td>\n",
       "      <td>$330,600,000</td>\n",
       "      <td>$459,005,868</td>\n",
       "      <td>$1,403,013,963</td>\n",
       "      <td>330600000</td>\n",
       "      <td>1403013963</td>\n",
       "    </tr>\n",
       "    <tr>\n",
       "      <th>4</th>\n",
       "      <td>5</td>\n",
       "      <td>Dec 15, 2017</td>\n",
       "      <td>Star Wars Ep. VIII: The Last Jedi</td>\n",
       "      <td>$317,000,000</td>\n",
       "      <td>$620,181,382</td>\n",
       "      <td>$1,316,721,747</td>\n",
       "      <td>317000000</td>\n",
       "      <td>1316721747</td>\n",
       "    </tr>\n",
       "  </tbody>\n",
       "</table>\n",
       "</div>"
      ],
      "text/plain": [
       "   id  release_date                                        movie  \\\n",
       "0   1  Dec 18, 2009                                       Avatar   \n",
       "1   2  May 20, 2011  Pirates of the Caribbean: On Stranger Tides   \n",
       "2   3   Jun 7, 2019                                 Dark Phoenix   \n",
       "3   4   May 1, 2015                      Avengers: Age of Ultron   \n",
       "4   5  Dec 15, 2017            Star Wars Ep. VIII: The Last Jedi   \n",
       "\n",
       "  production_budget domestic_gross worldwide_gross  budget_clean  \\\n",
       "0      $425,000,000   $760,507,625  $2,776,345,279     425000000   \n",
       "1      $410,600,000   $241,063,875  $1,045,663,875     410600000   \n",
       "2      $350,000,000    $42,762,350    $149,762,350     350000000   \n",
       "3      $330,600,000   $459,005,868  $1,403,013,963     330600000   \n",
       "4      $317,000,000   $620,181,382  $1,316,721,747     317000000   \n",
       "\n",
       "   ww_gross_clean  \n",
       "0      2776345279  \n",
       "1      1045663875  \n",
       "2       149762350  \n",
       "3      1403013963  \n",
       "4      1316721747  "
      ]
     },
     "execution_count": 323,
     "metadata": {},
     "output_type": "execute_result"
    }
   ],
   "source": [
    "#Uses money cleaner function to clean data for statistical analysis\n",
    "budget_clean = money_cleaner(df, 'production_budget', 'budget_clean')\n",
    "df['budget_clean'] = budget_clean\n",
    "\n",
    "worldwide_gross = money_cleaner(df, 'worldwide_gross', 'ww_gross_clean')\n",
    "df['ww_gross_clean'] = worldwide_gross\n",
    "df.head()"
   ]
  },
  {
   "cell_type": "code",
   "execution_count": 324,
   "metadata": {},
   "outputs": [],
   "source": [
    "df['production_profit'] = df.ww_gross_clean - df.budget_clean\n"
   ]
  },
  {
   "cell_type": "code",
   "execution_count": 325,
   "metadata": {},
   "outputs": [
    {
     "data": {
      "text/html": [
       "<div>\n",
       "<style scoped>\n",
       "    .dataframe tbody tr th:only-of-type {\n",
       "        vertical-align: middle;\n",
       "    }\n",
       "\n",
       "    .dataframe tbody tr th {\n",
       "        vertical-align: top;\n",
       "    }\n",
       "\n",
       "    .dataframe thead th {\n",
       "        text-align: right;\n",
       "    }\n",
       "</style>\n",
       "<table border=\"1\" class=\"dataframe\">\n",
       "  <thead>\n",
       "    <tr style=\"text-align: right;\">\n",
       "      <th></th>\n",
       "      <th>id</th>\n",
       "      <th>release_date</th>\n",
       "      <th>movie</th>\n",
       "      <th>production_budget</th>\n",
       "      <th>domestic_gross</th>\n",
       "      <th>worldwide_gross</th>\n",
       "      <th>budget_clean</th>\n",
       "      <th>ww_gross_clean</th>\n",
       "      <th>production_profit</th>\n",
       "    </tr>\n",
       "  </thead>\n",
       "  <tbody>\n",
       "    <tr>\n",
       "      <th>0</th>\n",
       "      <td>1</td>\n",
       "      <td>Dec 18, 2009</td>\n",
       "      <td>Avatar</td>\n",
       "      <td>$425,000,000</td>\n",
       "      <td>$760,507,625</td>\n",
       "      <td>$2,776,345,279</td>\n",
       "      <td>425000000</td>\n",
       "      <td>2776345279</td>\n",
       "      <td>2351345279</td>\n",
       "    </tr>\n",
       "    <tr>\n",
       "      <th>42</th>\n",
       "      <td>43</td>\n",
       "      <td>Dec 19, 1997</td>\n",
       "      <td>Titanic</td>\n",
       "      <td>$200,000,000</td>\n",
       "      <td>$659,363,944</td>\n",
       "      <td>$2,208,208,395</td>\n",
       "      <td>200000000</td>\n",
       "      <td>2208208395</td>\n",
       "      <td>2008208395</td>\n",
       "    </tr>\n",
       "    <tr>\n",
       "      <th>6</th>\n",
       "      <td>7</td>\n",
       "      <td>Apr 27, 2018</td>\n",
       "      <td>Avengers: Infinity War</td>\n",
       "      <td>$300,000,000</td>\n",
       "      <td>$678,815,482</td>\n",
       "      <td>$2,048,134,200</td>\n",
       "      <td>300000000</td>\n",
       "      <td>2048134200</td>\n",
       "      <td>1748134200</td>\n",
       "    </tr>\n",
       "    <tr>\n",
       "      <th>5</th>\n",
       "      <td>6</td>\n",
       "      <td>Dec 18, 2015</td>\n",
       "      <td>Star Wars Ep. VII: The Force Awakens</td>\n",
       "      <td>$306,000,000</td>\n",
       "      <td>$936,662,225</td>\n",
       "      <td>$2,053,311,220</td>\n",
       "      <td>306000000</td>\n",
       "      <td>2053311220</td>\n",
       "      <td>1747311220</td>\n",
       "    </tr>\n",
       "    <tr>\n",
       "      <th>33</th>\n",
       "      <td>34</td>\n",
       "      <td>Jun 12, 2015</td>\n",
       "      <td>Jurassic World</td>\n",
       "      <td>$215,000,000</td>\n",
       "      <td>$652,270,625</td>\n",
       "      <td>$1,648,854,864</td>\n",
       "      <td>215000000</td>\n",
       "      <td>1648854864</td>\n",
       "      <td>1433854864</td>\n",
       "    </tr>\n",
       "    <tr>\n",
       "      <th>...</th>\n",
       "      <td>...</td>\n",
       "      <td>...</td>\n",
       "      <td>...</td>\n",
       "      <td>...</td>\n",
       "      <td>...</td>\n",
       "      <td>...</td>\n",
       "      <td>...</td>\n",
       "      <td>...</td>\n",
       "      <td>...</td>\n",
       "    </tr>\n",
       "    <tr>\n",
       "      <th>352</th>\n",
       "      <td>53</td>\n",
       "      <td>Apr 27, 2001</td>\n",
       "      <td>Town &amp; Country</td>\n",
       "      <td>$105,000,000</td>\n",
       "      <td>$6,712,451</td>\n",
       "      <td>$10,364,769</td>\n",
       "      <td>105000000</td>\n",
       "      <td>10364769</td>\n",
       "      <td>-94635231</td>\n",
       "    </tr>\n",
       "    <tr>\n",
       "      <th>341</th>\n",
       "      <td>42</td>\n",
       "      <td>Jun 14, 2019</td>\n",
       "      <td>Men in Black: International</td>\n",
       "      <td>$110,000,000</td>\n",
       "      <td>$3,100,000</td>\n",
       "      <td>$3,100,000</td>\n",
       "      <td>110000000</td>\n",
       "      <td>3100000</td>\n",
       "      <td>-106900000</td>\n",
       "    </tr>\n",
       "    <tr>\n",
       "      <th>193</th>\n",
       "      <td>94</td>\n",
       "      <td>Mar 11, 2011</td>\n",
       "      <td>Mars Needs Moms</td>\n",
       "      <td>$150,000,000</td>\n",
       "      <td>$21,392,758</td>\n",
       "      <td>$39,549,758</td>\n",
       "      <td>150000000</td>\n",
       "      <td>39549758</td>\n",
       "      <td>-110450242</td>\n",
       "    </tr>\n",
       "    <tr>\n",
       "      <th>194</th>\n",
       "      <td>95</td>\n",
       "      <td>Dec 31, 2020</td>\n",
       "      <td>Moonfall</td>\n",
       "      <td>$150,000,000</td>\n",
       "      <td>$0</td>\n",
       "      <td>$0</td>\n",
       "      <td>150000000</td>\n",
       "      <td>0</td>\n",
       "      <td>-150000000</td>\n",
       "    </tr>\n",
       "    <tr>\n",
       "      <th>2</th>\n",
       "      <td>3</td>\n",
       "      <td>Jun 7, 2019</td>\n",
       "      <td>Dark Phoenix</td>\n",
       "      <td>$350,000,000</td>\n",
       "      <td>$42,762,350</td>\n",
       "      <td>$149,762,350</td>\n",
       "      <td>350000000</td>\n",
       "      <td>149762350</td>\n",
       "      <td>-200237650</td>\n",
       "    </tr>\n",
       "  </tbody>\n",
       "</table>\n",
       "<p>5782 rows × 9 columns</p>\n",
       "</div>"
      ],
      "text/plain": [
       "     id  release_date                                 movie production_budget  \\\n",
       "0     1  Dec 18, 2009                                Avatar      $425,000,000   \n",
       "42   43  Dec 19, 1997                               Titanic      $200,000,000   \n",
       "6     7  Apr 27, 2018                Avengers: Infinity War      $300,000,000   \n",
       "5     6  Dec 18, 2015  Star Wars Ep. VII: The Force Awakens      $306,000,000   \n",
       "33   34  Jun 12, 2015                        Jurassic World      $215,000,000   \n",
       "..   ..           ...                                   ...               ...   \n",
       "352  53  Apr 27, 2001                        Town & Country      $105,000,000   \n",
       "341  42  Jun 14, 2019           Men in Black: International      $110,000,000   \n",
       "193  94  Mar 11, 2011                       Mars Needs Moms      $150,000,000   \n",
       "194  95  Dec 31, 2020                              Moonfall      $150,000,000   \n",
       "2     3   Jun 7, 2019                          Dark Phoenix      $350,000,000   \n",
       "\n",
       "    domestic_gross worldwide_gross  budget_clean  ww_gross_clean  \\\n",
       "0     $760,507,625  $2,776,345,279     425000000      2776345279   \n",
       "42    $659,363,944  $2,208,208,395     200000000      2208208395   \n",
       "6     $678,815,482  $2,048,134,200     300000000      2048134200   \n",
       "5     $936,662,225  $2,053,311,220     306000000      2053311220   \n",
       "33    $652,270,625  $1,648,854,864     215000000      1648854864   \n",
       "..             ...             ...           ...             ...   \n",
       "352     $6,712,451     $10,364,769     105000000        10364769   \n",
       "341     $3,100,000      $3,100,000     110000000         3100000   \n",
       "193    $21,392,758     $39,549,758     150000000        39549758   \n",
       "194             $0              $0     150000000               0   \n",
       "2      $42,762,350    $149,762,350     350000000       149762350   \n",
       "\n",
       "     production_profit  \n",
       "0           2351345279  \n",
       "42          2008208395  \n",
       "6           1748134200  \n",
       "5           1747311220  \n",
       "33          1433854864  \n",
       "..                 ...  \n",
       "352          -94635231  \n",
       "341         -106900000  \n",
       "193         -110450242  \n",
       "194         -150000000  \n",
       "2           -200237650  \n",
       "\n",
       "[5782 rows x 9 columns]"
      ]
     },
     "execution_count": 325,
     "metadata": {},
     "output_type": "execute_result"
    }
   ],
   "source": [
    "df.sort_values(by='production_profit', ascending=False)"
   ]
  },
  {
   "cell_type": "code",
   "execution_count": 284,
   "metadata": {},
   "outputs": [
    {
     "data": {
      "image/png": "[encoded data removed]",
      "text/plain": [
       "<Figure size 792x612 with 1 Axes>"
      ]
     },
     "metadata": {
      "needs_background": "light"
     },
     "output_type": "display_data"
    }
   ],
   "source": [
    "#Creates visual to see if there is a correlation between budget and profit. \n",
    "# Will movies with higher budgets have higher profits as well?\n",
    "\n",
    "budget = df['budget_clean']\n",
    "profit = df['production_profit']\n",
    "\n",
    "\n",
    "ax = sns.regplot(x=budget, y=profit)\n",
    "\n",
    "\n",
    "ax.get_figure().set_size_inches((11, 8.5))\n",
    "ax.set_xlabel('Movie Budget')\n",
    "ax.set_ylabel('Movie Profit')\n",
    "#ax1.xaxis.set_major_formatter(\"{x:,.2f}\")\n",
    "#ax2.yaxis.set_minor_formatter(\"{y:,.2f}\")\n",
    "ax.set_title(\"Movie Budget vs Profit\");"
   ]
  }
 ],
 "metadata": {
  "kernelspec": {
   "display_name": "Python (learn-env)",
   "language": "python",
   "name": "learn-env"
  },
  "language_info": {
   "codemirror_mode": {
    "name": "ipython",
    "version": 3
   },
   "file_extension": ".py",
   "mimetype": "text/x-python",
   "name": "python",
   "nbconvert_exporter": "python",
   "pygments_lexer": "ipython3",
   "version": "3.8.5"
  },
  "toc": {
   "base_numbering": 1,
   "nav_menu": {},
   "number_sections": true,
   "sideBar": true,
   "skip_h1_title": false,
   "title_cell": "Table of Contents",
   "title_sidebar": "Contents",
   "toc_cell": false,
   "toc_position": {},
   "toc_section_display": true,
   "toc_window_display": false
  }
 },
 "nbformat": 4,
 "nbformat_minor": 4
}
