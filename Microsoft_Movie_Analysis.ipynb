{
 "cells": [
  {
   "cell_type": "markdown",
   "metadata": {},
   "source": [
    "# Microsoft Movie Analysis\n",
    "- **Authors:** Kevin Culver\n",
    "***"
   ]
  },
  {
   "cell_type": "markdown",
   "metadata": {},
   "source": [
    " <img src = \"./images/movie_posters.jpeg\" width = 75%, align = center/>\n",
    " "
   ]
  },
  {
   "cell_type": "markdown",
   "metadata": {},
   "source": [
    "## Overview\n",
    "***\n",
    "\n",
    "The aim of the current project was to provide actionable insights for Microsoft as it launches a new movie production studio. The project analyzed databases to identify variables that contribute to a movie's success at the box office. Analysis showed that certain factors, such as a film's genre, budget, rating, or release date were related to higher profit and return on investment."
   ]
  },
  {
   "cell_type": "markdown",
   "metadata": {},
   "source": [
    "## Business Problem\n",
    "***\n",
    "\n",
    "Creating a successful movie studio takes time, money, and risk. However, a company cannot predict how the movies it produces will be received. Therefore, the point of this analysis was to find what qualities are shared by high grossing films that make them successful. For the present analysis, four questions were asked:\n",
    "1. *What movie genres are most successful?*\n",
    "2. *What time of year is best to release films?*\n",
    "3. *Does budget size impact a movie's profit?*\n",
    "4. *How does a movie's rating affect its profitability?*\n",
    "\n",
    "By analyzing these questions, business recommendations can be provided that will assist Microsoft in making informed decisions about what types of films to create. \n"
   ]
  },
  {
   "cell_type": "markdown",
   "metadata": {},
   "source": [
    "## Data Understanding\n",
    "***\n",
    "The data used in this project comes from two online movie databases - iMDB and The Numbers. Within these databases, each movie is identified by its title or movie id. When combined, these databases provide comprehensive information for each movie, including its genre, rating, release date, budget, and total gross (both domestic and worldwide). \n"
   ]
  },
  {
   "cell_type": "markdown",
   "metadata": {},
   "source": [
    "### Importing Relevant Modules and Datasets"
   ]
  },
  {
   "cell_type": "code",
   "execution_count": 1,
   "metadata": {},
   "outputs": [],
   "source": [
    "# Import standard packages\n",
    "import pandas as pd\n",
    "import numpy as np\n",
    "import matplotlib.pyplot as plt\n",
    "import seaborn as sns\n",
    "from bs4 import BeautifulSoup\n",
    "import requests\n",
    "\n",
    "%matplotlib inline"
   ]
  },
  {
   "cell_type": "code",
   "execution_count": 2,
   "metadata": {},
   "outputs": [],
   "source": [
    "#iMDB datasets\n",
    "imdb_ratings = pd.read_csv('zippedData/imdb.title.ratings.csv.gz')\n",
    "imdb_titles = pd.read_csv('zippedData/imdb.title.basics.csv.gz')\n",
    "\n",
    "#The Numbers (movie budget dataset)\n",
    "budget = pd.read_csv('zippedData/tn.movie_budgets.csv.gz')"
   ]
  },
  {
   "cell_type": "markdown",
   "metadata": {},
   "source": [
    "### iMDB and The Numbers Datasets"
   ]
  },
  {
   "cell_type": "markdown",
   "metadata": {},
   "source": [
    "#### iMDB Data\n",
    "The two datasets imported from iMDB are: **imdb_ratings** and **imdb_titles**. \n",
    "\n",
    "The **imdb_ratings** database, provides the average ratings and number of votes for each movies.  The second database, **imdb_titles**, provides more info on each movie including it's title, runtime, start year, and genre. \n"
   ]
  },
  {
   "cell_type": "markdown",
   "metadata": {},
   "source": [
    "These two datasets can be easily joined since they share the unique movie identifier 'tconst'. In the cells below, the iMDB databases are joined using an inner join. "
   ]
  },
  {
   "cell_type": "code",
   "execution_count": 3,
   "metadata": {},
   "outputs": [],
   "source": [
    "#setting indexes to 'tconst' for each dataset to prep for inner join\n",
    "imdb_titles.set_index('tconst', inplace=True)\n",
    "imdb_ratings.set_index('tconst', inplace=True)"
   ]
  },
  {
   "cell_type": "code",
   "execution_count": 4,
   "metadata": {},
   "outputs": [
    {
     "data": {
      "text/html": [
       "<div>\n",
       "<style scoped>\n",
       "    .dataframe tbody tr th:only-of-type {\n",
       "        vertical-align: middle;\n",
       "    }\n",
       "\n",
       "    .dataframe tbody tr th {\n",
       "        vertical-align: top;\n",
       "    }\n",
       "\n",
       "    .dataframe thead th {\n",
       "        text-align: right;\n",
       "    }\n",
       "</style>\n",
       "<table border=\"1\" class=\"dataframe\">\n",
       "  <thead>\n",
       "    <tr style=\"text-align: right;\">\n",
       "      <th></th>\n",
       "      <th>primary_title</th>\n",
       "      <th>original_title</th>\n",
       "      <th>start_year</th>\n",
       "      <th>runtime_minutes</th>\n",
       "      <th>genres</th>\n",
       "      <th>averagerating</th>\n",
       "      <th>numvotes</th>\n",
       "    </tr>\n",
       "    <tr>\n",
       "      <th>tconst</th>\n",
       "      <th></th>\n",
       "      <th></th>\n",
       "      <th></th>\n",
       "      <th></th>\n",
       "      <th></th>\n",
       "      <th></th>\n",
       "      <th></th>\n",
       "    </tr>\n",
       "  </thead>\n",
       "  <tbody>\n",
       "    <tr>\n",
       "      <th>tt0063540</th>\n",
       "      <td>Sunghursh</td>\n",
       "      <td>Sunghursh</td>\n",
       "      <td>2013</td>\n",
       "      <td>175.0</td>\n",
       "      <td>Action,Crime,Drama</td>\n",
       "      <td>7.0</td>\n",
       "      <td>77</td>\n",
       "    </tr>\n",
       "    <tr>\n",
       "      <th>tt0066787</th>\n",
       "      <td>One Day Before the Rainy Season</td>\n",
       "      <td>Ashad Ka Ek Din</td>\n",
       "      <td>2019</td>\n",
       "      <td>114.0</td>\n",
       "      <td>Biography,Drama</td>\n",
       "      <td>7.2</td>\n",
       "      <td>43</td>\n",
       "    </tr>\n",
       "  </tbody>\n",
       "</table>\n",
       "</div>"
      ],
      "text/plain": [
       "                             primary_title   original_title  start_year  \\\n",
       "tconst                                                                    \n",
       "tt0063540                        Sunghursh        Sunghursh        2013   \n",
       "tt0066787  One Day Before the Rainy Season  Ashad Ka Ek Din        2019   \n",
       "\n",
       "           runtime_minutes              genres  averagerating  numvotes  \n",
       "tconst                                                                   \n",
       "tt0063540            175.0  Action,Crime,Drama            7.0        77  \n",
       "tt0066787            114.0     Biography,Drama            7.2        43  "
      ]
     },
     "execution_count": 4,
     "metadata": {},
     "output_type": "execute_result"
    }
   ],
   "source": [
    "#joining dfs using inner join to get iMDB movies that contain both titles and ratings\n",
    "imdb_titles_ratings = imdb_titles.join(imdb_ratings, how='inner')\n",
    "\n",
    "imdb_titles_ratings.head(2)\n"
   ]
  },
  {
   "cell_type": "markdown",
   "metadata": {},
   "source": [
    "At this point in the analysis, there are close to 74,000 entries. The start year's range from 2010-2019, but as we'll see this is column does not represent the movie's actual release date. "
   ]
  },
  {
   "cell_type": "markdown",
   "metadata": {},
   "source": [
    "#### The Numbers Data:\n",
    "\n",
    "'The Numbers' dataset includes information on each movie's release date, title, budget, and total gross (both domestic and worldwide). The dataset contains 5782 entries."
   ]
  },
  {
   "cell_type": "code",
   "execution_count": 5,
   "metadata": {},
   "outputs": [
    {
     "data": {
      "text/html": [
       "<div>\n",
       "<style scoped>\n",
       "    .dataframe tbody tr th:only-of-type {\n",
       "        vertical-align: middle;\n",
       "    }\n",
       "\n",
       "    .dataframe tbody tr th {\n",
       "        vertical-align: top;\n",
       "    }\n",
       "\n",
       "    .dataframe thead th {\n",
       "        text-align: right;\n",
       "    }\n",
       "</style>\n",
       "<table border=\"1\" class=\"dataframe\">\n",
       "  <thead>\n",
       "    <tr style=\"text-align: right;\">\n",
       "      <th></th>\n",
       "      <th>id</th>\n",
       "      <th>release_date</th>\n",
       "      <th>movie</th>\n",
       "      <th>production_budget</th>\n",
       "      <th>domestic_gross</th>\n",
       "      <th>worldwide_gross</th>\n",
       "    </tr>\n",
       "  </thead>\n",
       "  <tbody>\n",
       "    <tr>\n",
       "      <th>0</th>\n",
       "      <td>1</td>\n",
       "      <td>Dec 18, 2009</td>\n",
       "      <td>Avatar</td>\n",
       "      <td>$425,000,000</td>\n",
       "      <td>$760,507,625</td>\n",
       "      <td>$2,776,345,279</td>\n",
       "    </tr>\n",
       "    <tr>\n",
       "      <th>1</th>\n",
       "      <td>2</td>\n",
       "      <td>May 20, 2011</td>\n",
       "      <td>Pirates of the Caribbean: On Stranger Tides</td>\n",
       "      <td>$410,600,000</td>\n",
       "      <td>$241,063,875</td>\n",
       "      <td>$1,045,663,875</td>\n",
       "    </tr>\n",
       "  </tbody>\n",
       "</table>\n",
       "</div>"
      ],
      "text/plain": [
       "   id  release_date                                        movie  \\\n",
       "0   1  Dec 18, 2009                                       Avatar   \n",
       "1   2  May 20, 2011  Pirates of the Caribbean: On Stranger Tides   \n",
       "\n",
       "  production_budget domestic_gross worldwide_gross  \n",
       "0      $425,000,000   $760,507,625  $2,776,345,279  \n",
       "1      $410,600,000   $241,063,875  $1,045,663,875  "
      ]
     },
     "execution_count": 5,
     "metadata": {},
     "output_type": "execute_result"
    }
   ],
   "source": [
    "budget.head(2)"
   ]
  },
  {
   "cell_type": "markdown",
   "metadata": {},
   "source": [
    "#### Merging Datasets\n",
    "\n",
    "The two tables are merge using the each entry's movie title since this is the only category shared between the two datasets. After merging, the new 'movies_df' table has 2638 entries."
   ]
  },
  {
   "cell_type": "code",
   "execution_count": 6,
   "metadata": {},
   "outputs": [
    {
     "data": {
      "text/html": [
       "<div>\n",
       "<style scoped>\n",
       "    .dataframe tbody tr th:only-of-type {\n",
       "        vertical-align: middle;\n",
       "    }\n",
       "\n",
       "    .dataframe tbody tr th {\n",
       "        vertical-align: top;\n",
       "    }\n",
       "\n",
       "    .dataframe thead th {\n",
       "        text-align: right;\n",
       "    }\n",
       "</style>\n",
       "<table border=\"1\" class=\"dataframe\">\n",
       "  <thead>\n",
       "    <tr style=\"text-align: right;\">\n",
       "      <th></th>\n",
       "      <th>primary_title</th>\n",
       "      <th>original_title</th>\n",
       "      <th>start_year</th>\n",
       "      <th>runtime_minutes</th>\n",
       "      <th>genres</th>\n",
       "      <th>averagerating</th>\n",
       "      <th>numvotes</th>\n",
       "      <th>id</th>\n",
       "      <th>release_date</th>\n",
       "      <th>movie</th>\n",
       "      <th>production_budget</th>\n",
       "      <th>domestic_gross</th>\n",
       "      <th>worldwide_gross</th>\n",
       "    </tr>\n",
       "  </thead>\n",
       "  <tbody>\n",
       "    <tr>\n",
       "      <th>0</th>\n",
       "      <td>Foodfight!</td>\n",
       "      <td>Foodfight!</td>\n",
       "      <td>2012</td>\n",
       "      <td>91.0</td>\n",
       "      <td>Action,Animation,Comedy</td>\n",
       "      <td>1.9</td>\n",
       "      <td>8248</td>\n",
       "      <td>26</td>\n",
       "      <td>Dec 31, 2012</td>\n",
       "      <td>Foodfight!</td>\n",
       "      <td>$45,000,000</td>\n",
       "      <td>$0</td>\n",
       "      <td>$73,706</td>\n",
       "    </tr>\n",
       "    <tr>\n",
       "      <th>1</th>\n",
       "      <td>The Overnight</td>\n",
       "      <td>The Overnight</td>\n",
       "      <td>2010</td>\n",
       "      <td>88.0</td>\n",
       "      <td>NaN</td>\n",
       "      <td>7.5</td>\n",
       "      <td>24</td>\n",
       "      <td>21</td>\n",
       "      <td>Jun 19, 2015</td>\n",
       "      <td>The Overnight</td>\n",
       "      <td>$200,000</td>\n",
       "      <td>$1,109,808</td>\n",
       "      <td>$1,165,996</td>\n",
       "    </tr>\n",
       "  </tbody>\n",
       "</table>\n",
       "</div>"
      ],
      "text/plain": [
       "   primary_title original_title  start_year  runtime_minutes  \\\n",
       "0     Foodfight!     Foodfight!        2012             91.0   \n",
       "1  The Overnight  The Overnight        2010             88.0   \n",
       "\n",
       "                    genres  averagerating  numvotes  id  release_date  \\\n",
       "0  Action,Animation,Comedy            1.9      8248  26  Dec 31, 2012   \n",
       "1                      NaN            7.5        24  21  Jun 19, 2015   \n",
       "\n",
       "           movie production_budget domestic_gross worldwide_gross  \n",
       "0     Foodfight!       $45,000,000             $0         $73,706  \n",
       "1  The Overnight          $200,000     $1,109,808      $1,165,996  "
      ]
     },
     "execution_count": 6,
     "metadata": {},
     "output_type": "execute_result"
    }
   ],
   "source": [
    "#merging the two tables (imdb + budget) using movie titles\n",
    "movies_df = pd.merge(imdb_titles_ratings, budget, right_on='movie', left_on='original_title')\n",
    "movies_df.head(2)"
   ]
  },
  {
   "cell_type": "markdown",
   "metadata": {},
   "source": [
    "## Data Preparation\n",
    "***\n",
    "\n",
    "Data preparation for this dataset consisted of several steps. First, the data was cleaned by changing data types, dropping unnecessary columns, and finding duplicate values and dropping them. Part of this process entailed creating new columns to house the altered data. After the data was cleaned, another data frame was created to address a specific question related to movie genres."
   ]
  },
  {
   "cell_type": "markdown",
   "metadata": {},
   "source": [
    "### Data Cleaning:"
   ]
  },
  {
   "cell_type": "markdown",
   "metadata": {},
   "source": [
    "#### Changing Data Types:\n",
    "<u> Steps Taken: </u>\n",
    "\n",
    " 1. Any column that deals with total gross is converted from an object dtype into an integer dtype to make analysis easier.\n",
    " \n",
    "2. A new column **'production_profit'** is created to measure the actual profit of each movie after accounting for the cost of budget.\n",
    "\n",
    "\n",
    "3. A column, **'date_released'** is added that changes the release date to a datetime object to make analysis easier.\n",
    "\n",
    "\n",
    "4. Finally, another column, **'release_month'** is created by separating the month name from the datetime object. This will make categorical analysis easier when creating data models."
   ]
  },
  {
   "cell_type": "code",
   "execution_count": 7,
   "metadata": {},
   "outputs": [],
   "source": [
    "#Function to tranform money columns into cleaned integers dtyes\n",
    "def money_cleaner(df, column_name, new_col_name):\n",
    "    df[new_col_name] = df[column_name].map(lambda x: x.replace('$', ''))\n",
    "    df[new_col_name] = df[new_col_name].map(lambda x: x.replace(',', ''))\n",
    "    df[new_col_name] = pd.to_numeric(df[new_col_name])\n",
    "    \n",
    "    return df[new_col_name]"
   ]
  },
  {
   "cell_type": "code",
   "execution_count": 8,
   "metadata": {},
   "outputs": [
    {
     "data": {
      "text/html": [
       "<div>\n",
       "<style scoped>\n",
       "    .dataframe tbody tr th:only-of-type {\n",
       "        vertical-align: middle;\n",
       "    }\n",
       "\n",
       "    .dataframe tbody tr th {\n",
       "        vertical-align: top;\n",
       "    }\n",
       "\n",
       "    .dataframe thead th {\n",
       "        text-align: right;\n",
       "    }\n",
       "</style>\n",
       "<table border=\"1\" class=\"dataframe\">\n",
       "  <thead>\n",
       "    <tr style=\"text-align: right;\">\n",
       "      <th></th>\n",
       "      <th>primary_title</th>\n",
       "      <th>original_title</th>\n",
       "      <th>start_year</th>\n",
       "      <th>runtime_minutes</th>\n",
       "      <th>genres</th>\n",
       "      <th>averagerating</th>\n",
       "      <th>numvotes</th>\n",
       "      <th>id</th>\n",
       "      <th>release_date</th>\n",
       "      <th>movie</th>\n",
       "      <th>production_budget</th>\n",
       "      <th>domestic_gross</th>\n",
       "      <th>worldwide_gross</th>\n",
       "      <th>budget_clean</th>\n",
       "      <th>ww_gross_clean</th>\n",
       "    </tr>\n",
       "  </thead>\n",
       "  <tbody>\n",
       "    <tr>\n",
       "      <th>0</th>\n",
       "      <td>Foodfight!</td>\n",
       "      <td>Foodfight!</td>\n",
       "      <td>2012</td>\n",
       "      <td>91.0</td>\n",
       "      <td>Action,Animation,Comedy</td>\n",
       "      <td>1.9</td>\n",
       "      <td>8248</td>\n",
       "      <td>26</td>\n",
       "      <td>Dec 31, 2012</td>\n",
       "      <td>Foodfight!</td>\n",
       "      <td>$45,000,000</td>\n",
       "      <td>$0</td>\n",
       "      <td>$73,706</td>\n",
       "      <td>45000000</td>\n",
       "      <td>73706</td>\n",
       "    </tr>\n",
       "    <tr>\n",
       "      <th>1</th>\n",
       "      <td>The Overnight</td>\n",
       "      <td>The Overnight</td>\n",
       "      <td>2010</td>\n",
       "      <td>88.0</td>\n",
       "      <td>NaN</td>\n",
       "      <td>7.5</td>\n",
       "      <td>24</td>\n",
       "      <td>21</td>\n",
       "      <td>Jun 19, 2015</td>\n",
       "      <td>The Overnight</td>\n",
       "      <td>$200,000</td>\n",
       "      <td>$1,109,808</td>\n",
       "      <td>$1,165,996</td>\n",
       "      <td>200000</td>\n",
       "      <td>1165996</td>\n",
       "    </tr>\n",
       "    <tr>\n",
       "      <th>2</th>\n",
       "      <td>The Overnight</td>\n",
       "      <td>The Overnight</td>\n",
       "      <td>2015</td>\n",
       "      <td>79.0</td>\n",
       "      <td>Comedy,Mystery</td>\n",
       "      <td>6.1</td>\n",
       "      <td>14828</td>\n",
       "      <td>21</td>\n",
       "      <td>Jun 19, 2015</td>\n",
       "      <td>The Overnight</td>\n",
       "      <td>$200,000</td>\n",
       "      <td>$1,109,808</td>\n",
       "      <td>$1,165,996</td>\n",
       "      <td>200000</td>\n",
       "      <td>1165996</td>\n",
       "    </tr>\n",
       "    <tr>\n",
       "      <th>3</th>\n",
       "      <td>On the Road</td>\n",
       "      <td>On the Road</td>\n",
       "      <td>2012</td>\n",
       "      <td>124.0</td>\n",
       "      <td>Adventure,Drama,Romance</td>\n",
       "      <td>6.1</td>\n",
       "      <td>37886</td>\n",
       "      <td>17</td>\n",
       "      <td>Mar 22, 2013</td>\n",
       "      <td>On the Road</td>\n",
       "      <td>$25,000,000</td>\n",
       "      <td>$720,828</td>\n",
       "      <td>$9,313,302</td>\n",
       "      <td>25000000</td>\n",
       "      <td>9313302</td>\n",
       "    </tr>\n",
       "    <tr>\n",
       "      <th>4</th>\n",
       "      <td>On the Road</td>\n",
       "      <td>On the Road</td>\n",
       "      <td>2014</td>\n",
       "      <td>89.0</td>\n",
       "      <td>Drama</td>\n",
       "      <td>6.0</td>\n",
       "      <td>6</td>\n",
       "      <td>17</td>\n",
       "      <td>Mar 22, 2013</td>\n",
       "      <td>On the Road</td>\n",
       "      <td>$25,000,000</td>\n",
       "      <td>$720,828</td>\n",
       "      <td>$9,313,302</td>\n",
       "      <td>25000000</td>\n",
       "      <td>9313302</td>\n",
       "    </tr>\n",
       "  </tbody>\n",
       "</table>\n",
       "</div>"
      ],
      "text/plain": [
       "   primary_title original_title  start_year  runtime_minutes  \\\n",
       "0     Foodfight!     Foodfight!        2012             91.0   \n",
       "1  The Overnight  The Overnight        2010             88.0   \n",
       "2  The Overnight  The Overnight        2015             79.0   \n",
       "3    On the Road    On the Road        2012            124.0   \n",
       "4    On the Road    On the Road        2014             89.0   \n",
       "\n",
       "                    genres  averagerating  numvotes  id  release_date  \\\n",
       "0  Action,Animation,Comedy            1.9      8248  26  Dec 31, 2012   \n",
       "1                      NaN            7.5        24  21  Jun 19, 2015   \n",
       "2           Comedy,Mystery            6.1     14828  21  Jun 19, 2015   \n",
       "3  Adventure,Drama,Romance            6.1     37886  17  Mar 22, 2013   \n",
       "4                    Drama            6.0         6  17  Mar 22, 2013   \n",
       "\n",
       "           movie production_budget domestic_gross worldwide_gross  \\\n",
       "0     Foodfight!       $45,000,000             $0         $73,706   \n",
       "1  The Overnight          $200,000     $1,109,808      $1,165,996   \n",
       "2  The Overnight          $200,000     $1,109,808      $1,165,996   \n",
       "3    On the Road       $25,000,000       $720,828      $9,313,302   \n",
       "4    On the Road       $25,000,000       $720,828      $9,313,302   \n",
       "\n",
       "   budget_clean  ww_gross_clean  \n",
       "0      45000000           73706  \n",
       "1        200000         1165996  \n",
       "2        200000         1165996  \n",
       "3      25000000         9313302  \n",
       "4      25000000         9313302  "
      ]
     },
     "execution_count": 8,
     "metadata": {},
     "output_type": "execute_result"
    }
   ],
   "source": [
    "#cleaning budget column\n",
    "budget_clean = money_cleaner(movies_df, 'production_budget', 'budget_clean')\n",
    "movies_df['budget_clean'] = budget_clean\n",
    "\n",
    "#cleaning worldwide_gross column\n",
    "worldwide_gross = money_cleaner(movies_df, 'worldwide_gross', 'ww_gross_clean')\n",
    "movies_df['ww_gross_clean'] = worldwide_gross\n",
    "\n",
    "movies_df.head()"
   ]
  },
  {
   "cell_type": "code",
   "execution_count": 9,
   "metadata": {},
   "outputs": [],
   "source": [
    "#Creates a production_profit column to determine how much profit each movie made\n",
    "#after budget accounted for\n",
    "movies_df['production_profit'] = movies_df['ww_gross_clean'] - movies_df['budget_clean']\n"
   ]
  },
  {
   "cell_type": "code",
   "execution_count": 10,
   "metadata": {},
   "outputs": [],
   "source": [
    "#creating column with release date as datetime object\n",
    "movies_df['date_released'] = pd.to_datetime(movies_df['release_date'])\n",
    "\n"
   ]
  },
  {
   "cell_type": "code",
   "execution_count": 11,
   "metadata": {},
   "outputs": [],
   "source": [
    "#Creates release_month column and fills each row with the name of  its release \n",
    "#month\n",
    "movies_df['release_month'] = movies_df['date_released'].dt.month_name()\n",
    "\n",
    "#For readability in later analysis, only the firt 3 letters are retained for\n",
    "#each month\n",
    "movies_df['release_month'] = movies_df['release_month'].map(lambda x: x[:3])"
   ]
  },
  {
   "cell_type": "markdown",
   "metadata": {},
   "source": [
    "***\n",
    "The 'start_year' column is misleading. It does not always represent the actual release date. \n",
    "For example: \"Action Jackson\" came out in 1988, but the start date listed is 2014.\n",
    "\n",
    "In the cell below, I correct the 'start_year' column by replacing it with the accurate year from 'release_date' column."
   ]
  },
  {
   "cell_type": "code",
   "execution_count": 12,
   "metadata": {},
   "outputs": [],
   "source": [
    "#replacing stary_year with correct year\n",
    "movies_df['start_year'] = movies_df['release_date'].map(lambda x: x[-4:])\n",
    "\n",
    "#The last step is to convert the column into an int64 dtype\n",
    "movies_df['start_year'] = pd.to_numeric(movies_df['start_year'])\n"
   ]
  },
  {
   "cell_type": "markdown",
   "metadata": {},
   "source": [
    "#### Dropping Unnecessary Columns\n",
    "The titles dropped below are not used in later analysis, so they are dropped to make for a cleaner, more readable table."
   ]
  },
  {
   "cell_type": "code",
   "execution_count": 13,
   "metadata": {},
   "outputs": [],
   "source": [
    "movies_df.drop(labels=['original_title', 'id', 'movie', 'release_date', \n",
    "                       'production_budget', 'domestic_gross', \n",
    "                       'worldwide_gross'], axis=1, inplace=True)"
   ]
  },
  {
   "cell_type": "markdown",
   "metadata": {},
   "source": [
    "#### Removing Duplicates and Null Values\n",
    "\n",
    "There are 5 items without genres and 106 items without runtime with 2638 items in total. Since there are only 5 without genre, these items are dropped. \n",
    "\n",
    "Runtime is not used in this analysis, so no action is taken for these null values.\n"
   ]
  },
  {
   "cell_type": "code",
   "execution_count": 14,
   "metadata": {},
   "outputs": [
    {
     "data": {
      "text/html": [
       "<div>\n",
       "<style scoped>\n",
       "    .dataframe tbody tr th:only-of-type {\n",
       "        vertical-align: middle;\n",
       "    }\n",
       "\n",
       "    .dataframe tbody tr th {\n",
       "        vertical-align: top;\n",
       "    }\n",
       "\n",
       "    .dataframe thead th {\n",
       "        text-align: right;\n",
       "    }\n",
       "</style>\n",
       "<table border=\"1\" class=\"dataframe\">\n",
       "  <thead>\n",
       "    <tr style=\"text-align: right;\">\n",
       "      <th></th>\n",
       "      <th>primary_title</th>\n",
       "      <th>start_year</th>\n",
       "      <th>runtime_minutes</th>\n",
       "      <th>genres</th>\n",
       "      <th>averagerating</th>\n",
       "      <th>numvotes</th>\n",
       "      <th>budget_clean</th>\n",
       "      <th>ww_gross_clean</th>\n",
       "      <th>production_profit</th>\n",
       "      <th>date_released</th>\n",
       "      <th>release_month</th>\n",
       "    </tr>\n",
       "  </thead>\n",
       "  <tbody>\n",
       "    <tr>\n",
       "      <th>0</th>\n",
       "      <td>Foodfight!</td>\n",
       "      <td>2012</td>\n",
       "      <td>91.0</td>\n",
       "      <td>Action,Animation,Comedy</td>\n",
       "      <td>1.9</td>\n",
       "      <td>8248</td>\n",
       "      <td>45000000</td>\n",
       "      <td>73706</td>\n",
       "      <td>-44926294</td>\n",
       "      <td>2012-12-31</td>\n",
       "      <td>Dec</td>\n",
       "    </tr>\n",
       "    <tr>\n",
       "      <th>1</th>\n",
       "      <td>The Overnight</td>\n",
       "      <td>2015</td>\n",
       "      <td>88.0</td>\n",
       "      <td>NaN</td>\n",
       "      <td>7.5</td>\n",
       "      <td>24</td>\n",
       "      <td>200000</td>\n",
       "      <td>1165996</td>\n",
       "      <td>965996</td>\n",
       "      <td>2015-06-19</td>\n",
       "      <td>Jun</td>\n",
       "    </tr>\n",
       "    <tr>\n",
       "      <th>2</th>\n",
       "      <td>The Overnight</td>\n",
       "      <td>2015</td>\n",
       "      <td>79.0</td>\n",
       "      <td>Comedy,Mystery</td>\n",
       "      <td>6.1</td>\n",
       "      <td>14828</td>\n",
       "      <td>200000</td>\n",
       "      <td>1165996</td>\n",
       "      <td>965996</td>\n",
       "      <td>2015-06-19</td>\n",
       "      <td>Jun</td>\n",
       "    </tr>\n",
       "    <tr>\n",
       "      <th>3</th>\n",
       "      <td>On the Road</td>\n",
       "      <td>2013</td>\n",
       "      <td>124.0</td>\n",
       "      <td>Adventure,Drama,Romance</td>\n",
       "      <td>6.1</td>\n",
       "      <td>37886</td>\n",
       "      <td>25000000</td>\n",
       "      <td>9313302</td>\n",
       "      <td>-15686698</td>\n",
       "      <td>2013-03-22</td>\n",
       "      <td>Mar</td>\n",
       "    </tr>\n",
       "    <tr>\n",
       "      <th>4</th>\n",
       "      <td>On the Road</td>\n",
       "      <td>2013</td>\n",
       "      <td>89.0</td>\n",
       "      <td>Drama</td>\n",
       "      <td>6.0</td>\n",
       "      <td>6</td>\n",
       "      <td>25000000</td>\n",
       "      <td>9313302</td>\n",
       "      <td>-15686698</td>\n",
       "      <td>2013-03-22</td>\n",
       "      <td>Mar</td>\n",
       "    </tr>\n",
       "  </tbody>\n",
       "</table>\n",
       "</div>"
      ],
      "text/plain": [
       "   primary_title  start_year  runtime_minutes                   genres  \\\n",
       "0     Foodfight!        2012             91.0  Action,Animation,Comedy   \n",
       "1  The Overnight        2015             88.0                      NaN   \n",
       "2  The Overnight        2015             79.0           Comedy,Mystery   \n",
       "3    On the Road        2013            124.0  Adventure,Drama,Romance   \n",
       "4    On the Road        2013             89.0                    Drama   \n",
       "\n",
       "   averagerating  numvotes  budget_clean  ww_gross_clean  production_profit  \\\n",
       "0            1.9      8248      45000000           73706          -44926294   \n",
       "1            7.5        24        200000         1165996             965996   \n",
       "2            6.1     14828        200000         1165996             965996   \n",
       "3            6.1     37886      25000000         9313302          -15686698   \n",
       "4            6.0         6      25000000         9313302          -15686698   \n",
       "\n",
       "  date_released release_month  \n",
       "0    2012-12-31           Dec  \n",
       "1    2015-06-19           Jun  \n",
       "2    2015-06-19           Jun  \n",
       "3    2013-03-22           Mar  \n",
       "4    2013-03-22           Mar  "
      ]
     },
     "execution_count": 14,
     "metadata": {},
     "output_type": "execute_result"
    }
   ],
   "source": [
    "movies_df.head()"
   ]
  },
  {
   "cell_type": "code",
   "execution_count": 15,
   "metadata": {},
   "outputs": [],
   "source": [
    "movies_df.dropna(subset=['genres'], inplace=True)"
   ]
  },
  {
   "cell_type": "code",
   "execution_count": 16,
   "metadata": {},
   "outputs": [
    {
     "data": {
      "text/plain": [
       "541"
      ]
     },
     "execution_count": 16,
     "metadata": {},
     "output_type": "execute_result"
    }
   ],
   "source": [
    "movies_df.duplicated(subset='primary_title').sum()"
   ]
  },
  {
   "cell_type": "markdown",
   "metadata": {},
   "source": [
    "There are 541 duplicate titles in the dataset that need to be dropped. After being dropped the total number of entries in the table is 2092. \n"
   ]
  },
  {
   "cell_type": "code",
   "execution_count": 17,
   "metadata": {},
   "outputs": [
    {
     "data": {
      "text/plain": [
       "(2092, 11)"
      ]
     },
     "execution_count": 17,
     "metadata": {},
     "output_type": "execute_result"
    }
   ],
   "source": [
    "movies_df.drop_duplicates(keep='first', subset='primary_title', inplace=True)\n",
    "\n",
    "#Sucessfully dropped duplicate entries\n",
    "movies_df.shape"
   ]
  },
  {
   "cell_type": "markdown",
   "metadata": {},
   "source": [
    "### Separating Genres and Creating New Data Frame\n",
    "Each movie can have multiple genre designations. However, these designations are clumped together in a list and need to be separated for better, more accurate analysis. Below, a new data frame is created that creates a row for each genre designation for each movie.  "
   ]
  },
  {
   "cell_type": "code",
   "execution_count": 18,
   "metadata": {},
   "outputs": [
    {
     "data": {
      "text/html": [
       "<div>\n",
       "<style scoped>\n",
       "    .dataframe tbody tr th:only-of-type {\n",
       "        vertical-align: middle;\n",
       "    }\n",
       "\n",
       "    .dataframe tbody tr th {\n",
       "        vertical-align: top;\n",
       "    }\n",
       "\n",
       "    .dataframe thead th {\n",
       "        text-align: right;\n",
       "    }\n",
       "</style>\n",
       "<table border=\"1\" class=\"dataframe\">\n",
       "  <thead>\n",
       "    <tr style=\"text-align: right;\">\n",
       "      <th></th>\n",
       "      <th>primary_title</th>\n",
       "      <th>start_year</th>\n",
       "      <th>runtime_minutes</th>\n",
       "      <th>genres</th>\n",
       "      <th>averagerating</th>\n",
       "      <th>numvotes</th>\n",
       "      <th>budget_clean</th>\n",
       "      <th>ww_gross_clean</th>\n",
       "      <th>production_profit</th>\n",
       "      <th>date_released</th>\n",
       "      <th>release_month</th>\n",
       "      <th>genres_list</th>\n",
       "    </tr>\n",
       "  </thead>\n",
       "  <tbody>\n",
       "    <tr>\n",
       "      <th>0</th>\n",
       "      <td>Foodfight!</td>\n",
       "      <td>2012</td>\n",
       "      <td>91.0</td>\n",
       "      <td>Action,Animation,Comedy</td>\n",
       "      <td>1.9</td>\n",
       "      <td>8248</td>\n",
       "      <td>45000000</td>\n",
       "      <td>73706</td>\n",
       "      <td>-44926294</td>\n",
       "      <td>2012-12-31</td>\n",
       "      <td>Dec</td>\n",
       "      <td>Action</td>\n",
       "    </tr>\n",
       "    <tr>\n",
       "      <th>0</th>\n",
       "      <td>Foodfight!</td>\n",
       "      <td>2012</td>\n",
       "      <td>91.0</td>\n",
       "      <td>Action,Animation,Comedy</td>\n",
       "      <td>1.9</td>\n",
       "      <td>8248</td>\n",
       "      <td>45000000</td>\n",
       "      <td>73706</td>\n",
       "      <td>-44926294</td>\n",
       "      <td>2012-12-31</td>\n",
       "      <td>Dec</td>\n",
       "      <td>Animation</td>\n",
       "    </tr>\n",
       "    <tr>\n",
       "      <th>0</th>\n",
       "      <td>Foodfight!</td>\n",
       "      <td>2012</td>\n",
       "      <td>91.0</td>\n",
       "      <td>Action,Animation,Comedy</td>\n",
       "      <td>1.9</td>\n",
       "      <td>8248</td>\n",
       "      <td>45000000</td>\n",
       "      <td>73706</td>\n",
       "      <td>-44926294</td>\n",
       "      <td>2012-12-31</td>\n",
       "      <td>Dec</td>\n",
       "      <td>Comedy</td>\n",
       "    </tr>\n",
       "    <tr>\n",
       "      <th>2</th>\n",
       "      <td>The Overnight</td>\n",
       "      <td>2015</td>\n",
       "      <td>79.0</td>\n",
       "      <td>Comedy,Mystery</td>\n",
       "      <td>6.1</td>\n",
       "      <td>14828</td>\n",
       "      <td>200000</td>\n",
       "      <td>1165996</td>\n",
       "      <td>965996</td>\n",
       "      <td>2015-06-19</td>\n",
       "      <td>Jun</td>\n",
       "      <td>Comedy</td>\n",
       "    </tr>\n",
       "    <tr>\n",
       "      <th>2</th>\n",
       "      <td>The Overnight</td>\n",
       "      <td>2015</td>\n",
       "      <td>79.0</td>\n",
       "      <td>Comedy,Mystery</td>\n",
       "      <td>6.1</td>\n",
       "      <td>14828</td>\n",
       "      <td>200000</td>\n",
       "      <td>1165996</td>\n",
       "      <td>965996</td>\n",
       "      <td>2015-06-19</td>\n",
       "      <td>Jun</td>\n",
       "      <td>Mystery</td>\n",
       "    </tr>\n",
       "  </tbody>\n",
       "</table>\n",
       "</div>"
      ],
      "text/plain": [
       "   primary_title  start_year  runtime_minutes                   genres  \\\n",
       "0     Foodfight!        2012             91.0  Action,Animation,Comedy   \n",
       "0     Foodfight!        2012             91.0  Action,Animation,Comedy   \n",
       "0     Foodfight!        2012             91.0  Action,Animation,Comedy   \n",
       "2  The Overnight        2015             79.0           Comedy,Mystery   \n",
       "2  The Overnight        2015             79.0           Comedy,Mystery   \n",
       "\n",
       "   averagerating  numvotes  budget_clean  ww_gross_clean  production_profit  \\\n",
       "0            1.9      8248      45000000           73706          -44926294   \n",
       "0            1.9      8248      45000000           73706          -44926294   \n",
       "0            1.9      8248      45000000           73706          -44926294   \n",
       "2            6.1     14828        200000         1165996             965996   \n",
       "2            6.1     14828        200000         1165996             965996   \n",
       "\n",
       "  date_released release_month genres_list  \n",
       "0    2012-12-31           Dec      Action  \n",
       "0    2012-12-31           Dec   Animation  \n",
       "0    2012-12-31           Dec      Comedy  \n",
       "2    2015-06-19           Jun      Comedy  \n",
       "2    2015-06-19           Jun     Mystery  "
      ]
     },
     "execution_count": 18,
     "metadata": {},
     "output_type": "execute_result"
    }
   ],
   "source": [
    "#Splits/seperates each genre category for each movie/row\n",
    "movies_df['genres_list'] = movies_df['genres'].map(lambda x: x.split(','))\n",
    "movies_df.head(2)\n",
    "\n",
    "#Creates new df with each genre category represented in a row\n",
    "genres_df = movies_df.explode('genres_list')\n",
    "genres_df.head(5)"
   ]
  },
  {
   "cell_type": "code",
   "execution_count": 19,
   "metadata": {},
   "outputs": [
    {
     "data": {
      "text/html": [
       "<div>\n",
       "<style scoped>\n",
       "    .dataframe tbody tr th:only-of-type {\n",
       "        vertical-align: middle;\n",
       "    }\n",
       "\n",
       "    .dataframe tbody tr th {\n",
       "        vertical-align: top;\n",
       "    }\n",
       "\n",
       "    .dataframe thead th {\n",
       "        text-align: right;\n",
       "    }\n",
       "</style>\n",
       "<table border=\"1\" class=\"dataframe\">\n",
       "  <thead>\n",
       "    <tr style=\"text-align: right;\">\n",
       "      <th></th>\n",
       "      <th>primary_title</th>\n",
       "      <th>start_year</th>\n",
       "      <th>runtime_minutes</th>\n",
       "      <th>genres</th>\n",
       "      <th>averagerating</th>\n",
       "      <th>numvotes</th>\n",
       "      <th>budget_clean</th>\n",
       "      <th>ww_gross_clean</th>\n",
       "      <th>production_profit</th>\n",
       "      <th>date_released</th>\n",
       "      <th>release_month</th>\n",
       "      <th>genres_list</th>\n",
       "    </tr>\n",
       "  </thead>\n",
       "  <tbody>\n",
       "    <tr>\n",
       "      <th>0</th>\n",
       "      <td>Foodfight!</td>\n",
       "      <td>2012</td>\n",
       "      <td>91.0</td>\n",
       "      <td>Action,Animation,Comedy</td>\n",
       "      <td>1.9</td>\n",
       "      <td>8248</td>\n",
       "      <td>45000000</td>\n",
       "      <td>73706</td>\n",
       "      <td>-44926294</td>\n",
       "      <td>2012-12-31</td>\n",
       "      <td>Dec</td>\n",
       "      <td>[Action, Animation, Comedy]</td>\n",
       "    </tr>\n",
       "    <tr>\n",
       "      <th>2</th>\n",
       "      <td>The Overnight</td>\n",
       "      <td>2015</td>\n",
       "      <td>79.0</td>\n",
       "      <td>Comedy,Mystery</td>\n",
       "      <td>6.1</td>\n",
       "      <td>14828</td>\n",
       "      <td>200000</td>\n",
       "      <td>1165996</td>\n",
       "      <td>965996</td>\n",
       "      <td>2015-06-19</td>\n",
       "      <td>Jun</td>\n",
       "      <td>[Comedy, Mystery]</td>\n",
       "    </tr>\n",
       "  </tbody>\n",
       "</table>\n",
       "</div>"
      ],
      "text/plain": [
       "   primary_title  start_year  runtime_minutes                   genres  \\\n",
       "0     Foodfight!        2012             91.0  Action,Animation,Comedy   \n",
       "2  The Overnight        2015             79.0           Comedy,Mystery   \n",
       "\n",
       "   averagerating  numvotes  budget_clean  ww_gross_clean  production_profit  \\\n",
       "0            1.9      8248      45000000           73706          -44926294   \n",
       "2            6.1     14828        200000         1165996             965996   \n",
       "\n",
       "  date_released release_month                  genres_list  \n",
       "0    2012-12-31           Dec  [Action, Animation, Comedy]  \n",
       "2    2015-06-19           Jun            [Comedy, Mystery]  "
      ]
     },
     "execution_count": 19,
     "metadata": {},
     "output_type": "execute_result"
    }
   ],
   "source": [
    "movies_df.head(2)"
   ]
  },
  {
   "cell_type": "markdown",
   "metadata": {},
   "source": [
    "## Data Modeling and Evaluation\n",
    "***\n",
    "\n",
    "The organized data above has several categories that can be used for analysis. Since Microsoft is interested in creating successful, profitable movies, each relevant category is modeled based on its relation to production profit. \n",
    "\n",
    "The four categories used for modeling are: genre type, release month, movie budget, and movie rating. Each category is first charted and then evaluated. "
   ]
  },
  {
   "cell_type": "markdown",
   "metadata": {},
   "source": [
    "### Genre and Profitability: \n",
    "\n",
    "Genre type provides clear categories that can be charted and analyzed easily. By charting these categories using a barplot, it will become apparent if any genres are more profitable than others. If clear patterns become evident, these patterns can inform Microsoft's business decisions for what type of films to make."
   ]
  },
  {
   "cell_type": "code",
   "execution_count": 20,
   "metadata": {},
   "outputs": [
    {
     "data": {
      "text/plain": [
       "Index(['Animation', 'Adventure', 'Sci-Fi', 'Action', 'Fantasy', 'Musical',\n",
       "       'Family', 'Comedy', 'Thriller', 'Mystery', 'Music', 'Sport',\n",
       "       'Biography', 'Horror', 'Crime', 'Drama', 'Romance', 'History',\n",
       "       'Western', 'War', 'Documentary'],\n",
       "      dtype='object', name='genres_list')"
      ]
     },
     "execution_count": 20,
     "metadata": {},
     "output_type": "execute_result"
    }
   ],
   "source": [
    "# Orders the genres from most profitable to least. To be used in sns barplot\n",
    "genre_means = genres_df.groupby('genres_list').mean()['production_profit']\\\n",
    "                                    .sort_values(ascending=False)\n",
    "genre_means.index"
   ]
  },
  {
   "cell_type": "code",
   "execution_count": 21,
   "metadata": {},
   "outputs": [
    {
     "data": {
      "image/png": "[encoded data removed]",
      "text/plain": [
       "<Figure size 792x576 with 1 Axes>"
      ]
     },
     "metadata": {
      "needs_background": "light"
     },
     "output_type": "display_data"
    }
   ],
   "source": [
    "#since genres are categorical descriptions, a barchart will display the data\n",
    "#the best\n",
    "ax = sns.barplot(data=genres_df, y='genres_list', x='production_profit', \n",
    "                 order=genre_means.index, palette='muted')\n",
    "\n",
    "\n",
    "ax.get_figure().set_size_inches((11, 8))\n",
    "\n",
    "ax.set_xlabel('Production Profit', fontsize=12, fontweight='bold')\n",
    "ax.xaxis.set_major_formatter(\"${x:,.0f}\")\n",
    "\n",
    "ax.set_ylabel(ylabel=None)\n",
    "ax.set_title('Profitability of Various Movie Genres', fontsize=16, fontweight='bold')\n",
    "\n",
    "#saving figure to images folder for use in README and presentation\n",
    "plt.savefig('./images/genre_profit.png', facecolor='white');"
   ]
  },
  {
   "cell_type": "markdown",
   "metadata": {},
   "source": [
    "### Genre Evaluation: \n",
    "\n",
    "It is evident that some genres are much more profitable than others. For example, the Animation genre is nearly ten times more profitable than the Documentary genre.\n",
    "\n",
    "**The most profitable genre categories are:** \n",
    "1. Animation ($236 million)  \n",
    "\n",
    "2. Adventure ($217 million)\n",
    "\n",
    "3. Sci-fi ($189 million)\n",
    "\n",
    "However, the next best performing category is harder to determine with the *action*, *fantasy*, and *musical* genres all earning around $125-135 million.\n",
    "\n",
    "**The least profitable genre categories are:**\n",
    "1. Documentary ($24.6 million)\n",
    "\n",
    "2. War ($25.6 million)\n",
    "\n",
    "There is also a clump of genre categories that perform similarly earning between $31 and 37 million. These genres (from least profitable to most): *history*, *romance*, *drama*, *crime*, and *horror*.\n"
   ]
  },
  {
   "cell_type": "markdown",
   "metadata": {},
   "source": [
    "### Release Month and Profitability\n",
    "\n",
    "Similar to genres, the release month provides clearly defined categories that can be charted easily using a barplot. By comparing the profitability of various release months, it can be visually determined what time of year are the best for releasing a movie. "
   ]
  },
  {
   "cell_type": "code",
   "execution_count": 22,
   "metadata": {},
   "outputs": [
    {
     "data": {
      "text/plain": [
       "release_month\n",
       "Jun    1.344192e+08\n",
       "May    1.122625e+08\n",
       "Jul    1.106925e+08\n",
       "Nov    1.103317e+08\n",
       "Mar    7.703935e+07\n",
       "Dec    6.812520e+07\n",
       "Feb    6.578280e+07\n",
       "Apr    5.688355e+07\n",
       "Aug    4.554133e+07\n",
       "Oct    4.089157e+07\n",
       "Jan    3.961325e+07\n",
       "Sep    3.677364e+07\n",
       "Name: production_profit, dtype: float64"
      ]
     },
     "execution_count": 22,
     "metadata": {},
     "output_type": "execute_result"
    }
   ],
   "source": [
    "#Orders months by profit. Order will be used in sns plot below.\n",
    "month_means = movies_df.groupby('release_month').mean()['production_profit']\\\n",
    "                                           .sort_values(ascending=False)\n",
    "month_means"
   ]
  },
  {
   "cell_type": "code",
   "execution_count": 23,
   "metadata": {},
   "outputs": [
    {
     "data": {
      "image/png": "[encoded data removed]",
      "text/plain": [
       "<Figure size 792x576 with 1 Axes>"
      ]
     },
     "metadata": {
      "needs_background": "light"
     },
     "output_type": "display_data"
    }
   ],
   "source": [
    "#Creating seaborn barplot\n",
    "fig, ax = plt.subplots(figsize=(11,8))\n",
    "\n",
    "ax = sns.barplot(data=movies_df, x='release_month', y='production_profit',\n",
    "           order=month_means.index, palette='muted')\n",
    "\n",
    "ax.set_xlabel('Release Month', fontsize=12, fontweight='bold')\n",
    "ax.set_ylabel('Movie Profit', fontsize=12, fontweight='bold')\n",
    "ax.yaxis.set_major_formatter(\"${x:,.0f}\")\n",
    "ax.set_title('Release Month and Movie Profit', fontsize=16, fontweight='bold')\n",
    "\n",
    "#saving figure to images folder for use in README and presentation\n",
    "plt.savefig('./images/month_profit.png', facecolor='white');"
   ]
  },
  {
   "cell_type": "markdown",
   "metadata": {
    "heading_collapsed": true
   },
   "source": [
    "### Release Month Evaluation:\n",
    "\n",
    "**The top three most profitable release months are:**\n",
    "1. June ($134 million)\n",
    "\n",
    "2. May ($112 milion)\n",
    "\n",
    "3. July ($111 million)\n",
    "\n",
    "All three of these months are during the summer months, indicating that people go out to see movies more in the summer than in the fall and winter.\n",
    "\n",
    "The fourth most profitable month was **November**. Films are often released during the holiday season (around Thanksgiving) and many Americans have a tradition of going to the movies on Thanksgiving. This could also be a good month to release a movie\n",
    "\n",
    "**The least profitable release months:**\n",
    "1. September ($37 million)\n",
    "\n",
    "2. January ($40 million)\n",
    "\n",
    "3. October ($41 million)\n",
    "\n",
    "4. August ($45 million)\n",
    "\n",
    "Three out of the four lowest profit months occur in the fall (Aug-Oct), making the fall one of the worst times to release a film. This could be due to the end of summer holiday with kids and families going back to school and work routines."
   ]
  },
  {
   "cell_type": "markdown",
   "metadata": {},
   "source": [
    "### The Impact of Budget Size on Movie Profit\n",
    "\n",
    "The basic question this model seeks to answer is: do movies with higher budgets produce higher profit? In other words, is budget positively related to profit? In this section, descriptive statistics are also provided to gain insight into the average and median budgets for movies. By answering these questions, Microsoft can have informed expectations and numbers when planning budgets for each film."
   ]
  },
  {
   "cell_type": "code",
   "execution_count": 32,
   "metadata": {},
   "outputs": [
    {
     "data": {
      "image/png": "[encoded data removed]",
      "text/plain": [
       "<Figure size 792x432 with 1 Axes>"
      ]
     },
     "metadata": {
      "needs_background": "light"
     },
     "output_type": "display_data"
    }
   ],
   "source": [
    "#The question of how budget impacts profit will be best visualized using a \n",
    "# regressional lineplot/scatter plot since it shows how these two factors are related\n",
    "fig, ax = plt.subplots(figsize=(11,6))\n",
    "\n",
    "\n",
    "sns.regplot(data=movies_df, x='budget_clean', y='production_profit', \n",
    "                     scatter_kws = dict(alpha=0.5, s=12))\n",
    "\n",
    "plt.axvline(x=45000000, color='black', ls=':', label='> 45mil. budget')\n",
    "\n",
    "labels = ['> $45 mil. budget']\n",
    "handles, _ = ax.get_legend_handles_labels()\n",
    "\n",
    "# Slice list to remove first handle\n",
    "plt.legend(handles = handles, labels = labels)\n",
    "\n",
    "ax.set_xlabel('Movie Budget', fontsize=12, fontweight='bold')\n",
    "ax.xaxis.set_major_formatter(\"${x:,.0f}\")\n",
    "ax.set_ylabel('Movie Profit', fontsize=12, fontweight='bold')\n",
    "ax.yaxis.set_major_formatter(\"${x:,.0f}\")\n",
    "ax.set_title('Impact of Budget Size on Movie Profit', fontsize=16, \n",
    "             fontweight='bold')\n",
    "#saving figure to images folder for use in README and presentation\n",
    "plt.savefig('./images/budget_profit.png', facecolor='white');"
   ]
  },
  {
   "cell_type": "code",
   "execution_count": 25,
   "metadata": {},
   "outputs": [
    {
     "data": {
      "text/plain": [
       "count    2.092000e+03\n",
       "mean     3.669263e+07\n",
       "std      5.024722e+07\n",
       "min      1.400000e+03\n",
       "25%      5.000000e+06\n",
       "50%      1.800000e+07\n",
       "75%      4.500000e+07\n",
       "max      4.106000e+08\n",
       "Name: budget_clean, dtype: float64"
      ]
     },
     "execution_count": 25,
     "metadata": {},
     "output_type": "execute_result"
    }
   ],
   "source": [
    "movies_df['budget_clean'].describe()\n",
    "\n",
    "##Mean budget: $36.7 million\n",
    "##Median budget: $18 million\n",
    "##Top 75% of films: $45 million "
   ]
  },
  {
   "cell_type": "markdown",
   "metadata": {},
   "source": [
    "### Evaluation of Budget Size: \n",
    "\n",
    "There is a relatively strong correlation between movie budget size and profit. Specifically, after a budget surpasses 50 million dollars, there are more movies with more than a 500 million dollar profit. This indicates that movies with a higher budget are more likely to perform better in the box office. \n",
    "\n",
    "Several factors could contribute to this (e.g., better marketing, higher quality producers and actors, better visual effects). Further research could look into the budget of successful movies to see how to best allocate resources. \n",
    "\n",
    "Looking at the descriptive statistics, the median budget is 18 million and the top 25% of movies budget more than 45 million. These two numbers provide a reasonable range for setting budget parameters. \n",
    "\n",
    "\n",
    "\n",
    "**Descriptive Stats:**\n",
    "- Mean budget: $37 million \n",
    "\n",
    "- Median budget: $18 million \n",
    "\n",
    "- 75th percentile: $45 million\n",
    "\n"
   ]
  },
  {
   "cell_type": "markdown",
   "metadata": {},
   "source": [
    "### The Impact of Ratings on Profit\n",
    "\n",
    "Finally, movie rating was considered to see if higher rated movies earn more profit. By modeling this question, Microsoft can set a minimum rating to aim for as they create movies. \n",
    "\n",
    "On the barplot, two lines were added representing the average rating and the top 25% most profitable moves. The visual is created here to show that movies with a higher than average rating tend to gross more at the box office. "
   ]
  },
  {
   "cell_type": "code",
   "execution_count": 26,
   "metadata": {},
   "outputs": [
    {
     "data": {
      "image/png": "[encoded data removed]",
      "text/plain": [
       "<Figure size 792x432 with 1 Axes>"
      ]
     },
     "metadata": {
      "needs_background": "light"
     },
     "output_type": "display_data"
    }
   ],
   "source": [
    "#Plotting scatterplot of movies rating and their profit to see distribution of\n",
    "#ratings and movie profit\n",
    "fig, ax = plt.subplots(figsize=(11,6))\n",
    "plt.xticks()\n",
    "\n",
    "ax = sns.scatterplot(data=movies_df,\n",
    "                  y='production_profit', x='averagerating', palette='muted',\n",
    "                     alpha=0.7, s=27)\n",
    "\n",
    "\n",
    "plt.axvline(x=6.2, color='black', ls=':', label='6.4 rating')\n",
    "plt.axhline(y=72000000, color='black', ls='--', label='profit')\n",
    "\n",
    "labels = ['6.2 rating (average rating)', '> $72 mil. profit (top 25% of movies)']\n",
    "handles, _ = ax.get_legend_handles_labels()\n",
    "\n",
    "# Slice list to remove first handle\n",
    "plt.legend(handles = handles, labels = labels)\n",
    "\n",
    "ax.set_xlabel('Rating', fontsize=12, fontweight='bold')\n",
    "\n",
    "ax.set_ylabel('Profit', fontsize=12, fontweight='bold')\n",
    "ax.yaxis.set_major_formatter(\"${x:,.0f}\")\n",
    "ax.set_title(\"Impact of Movie Rating on Profit\", fontsize=16, fontweight='bold')\n",
    "\n",
    "\n",
    "#saving figure to images folder for use in README and presentation\n",
    "plt.savefig('./images/rating_profit.png', facecolor='white');"
   ]
  },
  {
   "cell_type": "code",
   "execution_count": 27,
   "metadata": {},
   "outputs": [
    {
     "data": {
      "text/plain": [
       "count    2.092000e+03\n",
       "mean     7.385640e+07\n",
       "std      1.708516e+08\n",
       "min     -2.002376e+08\n",
       "25%     -1.884277e+06\n",
       "50%      1.149627e+07\n",
       "75%      7.154787e+07\n",
       "max      2.008208e+09\n",
       "Name: production_profit, dtype: float64"
      ]
     },
     "execution_count": 27,
     "metadata": {},
     "output_type": "execute_result"
    }
   ],
   "source": [
    "movies_df['production_profit'].describe()\n"
   ]
  },
  {
   "cell_type": "markdown",
   "metadata": {},
   "source": [
    "### Evaluation of Rating's Impact:\n",
    "\n",
    "On average, a movie earns a **6.2** rating with only 25% of films earning higher than a 7.0 rating and 25% earning below a 5.6. Profit-wise, the median profit is 11.5 million, with only 25% of movies making more than **72 million**. \n",
    "\n",
    "The visual above confirms these descriptive statistics. The distribution shows that there is a higher density of movies that earn more 72 million dollars in profit (horizontal line) after movies surpass a 6.2 rating (vertical line).\n",
    "\n",
    "**Descriptive Statistics**:\n",
    "- Mean rating: 6.23\n",
    "- Median rating: 6.4\n",
    "- Lower 25%: 5.6\n",
    "- Upper 75%: 7.0\n",
    "- Highest rating: 9.2"
   ]
  },
  {
   "cell_type": "markdown",
   "metadata": {},
   "source": [
    "## Conclusions\n",
    "***\n",
    "\n",
    "The evaluation of the data above leads to four business recommendations for Microsoft's entry into movie production.\n",
    "\n",
    "1.\t**Limit creation of movies to certain genres.** Recommended genres are animation, adventure, sci-fi, or action since these genres generally earn higher profits. It is not recommended to produce movies within the documentary, war, or western genres due to historically poor performance at the box office. \n",
    "2. **Release movies during the summer months (May-June) and avoid releasing movies in the fall (Aug-Oct).** Movies released in the summer months have done significantly better than movies released during the fall. \n",
    "3.\t**Budget at least 18 million dollars per movie for a lower budget film and at least 45 million dollars for a higher-budget, high-production movie.**  Higher budget films tend to have higher profit. The average budget for films is 18 million. However, after a budget of more than 45 million dollars, a film is more likely to produce greater profit.\n",
    "4.\t**Strive to release movies that earn at least a 6.2 rating.** Movies that earn higher than a 6.2 average rating are more likely to be successful at the box office and earn greater than 72 million dollars in profit."
   ]
  },
  {
   "cell_type": "markdown",
   "metadata": {},
   "source": [
    "## Next Steps\n",
    "*** \n",
    "To further improve on the analysis done in this project. The following steps are recommended:\n",
    "\n",
    "1. **Analyze the budgets of high-grossing, high budget films.** Several factors could contribute to higher budget films having higher profits (e.g., better marketing, top-tier producers and actors, better visual effects). Future research could look into budget distribution to obtain n insights for how to best allocate resources. \n",
    "\n",
    "2. **Analyze film characteristics among highly rated films.** The current project concluded  that movies with higher ratings (6.0 or higher) performed better at the box office; however, this finding is quite vague and doesn't produce tangible actions. To improve on this finding, further analysis could be conducted to find characteristics shared among highly-rated movies (e.g., screen-writing, visual effects, fan base, actors, directors). \n",
    "\n",
    "3. **Perform similar analysis with more recent movies.** One of the main limitations of this project was that it contained movies up to 2019, but did not include movies from 2020 or 2021. To see if these trends continue with more recent movies, it is recommended to collect and analyze data from more recent films."
   ]
  }
 ],
 "metadata": {
  "kernelspec": {
   "display_name": "Python 3",
   "language": "python",
   "name": "python3"
  },
  "language_info": {
   "codemirror_mode": {
    "name": "ipython",
    "version": 3
   },
   "file_extension": ".py",
   "mimetype": "text/x-python",
   "name": "python",
   "nbconvert_exporter": "python",
   "pygments_lexer": "ipython3",
   "version": "3.8.5"
  },
  "toc": {
   "base_numbering": 1,
   "nav_menu": {},
   "number_sections": true,
   "sideBar": true,
   "skip_h1_title": false,
   "title_cell": "Table of Contents",
   "title_sidebar": "Contents",
   "toc_cell": false,
   "toc_position": {},
   "toc_section_display": true,
   "toc_window_display": false
  }
 },
 "nbformat": 4,
 "nbformat_minor": 4
}
