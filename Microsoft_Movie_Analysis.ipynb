{
 "cells": [
  {
   "cell_type": "markdown",
   "metadata": {},
   "source": [
    "# Microsoft Movie Analysis\n",
    "\n",
    "**Authors:** Kevin Culver\n",
    "***"
   ]
  },
  {
   "cell_type": "markdown",
   "metadata": {},
   "source": [
    "## Overview\n",
    "\n",
    "The project analyzes various movie databases to provide tangible steps for Microsoft to take as it begins to create movie content. Analysis of these databases showed that certain characteristics of a movie, such as its genre, budget, or run time produced greater profit. Analysis also revealed common trends that top-grossing films share. These findings can be used by Microsoft to narrow down decisions on what types of films to produce and invest in."
   ]
  },
  {
   "cell_type": "markdown",
   "metadata": {},
   "source": [
    "## Business Problem\n",
    "\n",
    "Creating a successful movie takes time, money, and risk. However, a company, like Microsoft, cannot predict how the movie will be received by it's audience. Therefore, the point of my analysis was to find what qualities are shared by high grossing films. to provide insight into what characteristics of movies have the greatest likelihood of monetary success. Using this data, I provide recommendations... \n",
    "***\n",
    "Questions to consider:\n",
    "* What are the business's pain points related to this project?\n",
    "* How did you pick the data analysis question(s) that you did?\n",
    "* Why are these questions important from a business perspective?\n",
    "***"
   ]
  },
  {
   "cell_type": "markdown",
   "metadata": {
    "heading_collapsed": true
   },
   "source": [
    "## Data Understanding\n",
    "\n",
    "The data used in this project comes from three online movie databases - iMDB, The Numbers, and Box Office Mojo. Within these databases, each movie is identified by its title or movie id. When combined, these databases provide comprehensive information for each movie, including its rating, release date, budget, gross (both domestic and worldwide), genre and other characteristics. \n"
   ]
  },
  {
   "cell_type": "markdown",
   "metadata": {
    "hidden": true
   },
   "source": [
    "### Importing Relevant Modules and Datasets"
   ]
  },
  {
   "cell_type": "code",
   "execution_count": 23,
   "metadata": {
    "hidden": true
   },
   "outputs": [],
   "source": [
    "# Import standard packages\n",
    "import pandas as pd\n",
    "import numpy as np\n",
    "import matplotlib.pyplot as plt\n",
    "import seaborn as sns\n",
    "from bs4 import BeautifulSoup\n",
    "import requests\n",
    "\n",
    "%matplotlib inline"
   ]
  },
  {
   "cell_type": "code",
   "execution_count": 3,
   "metadata": {
    "hidden": true
   },
   "outputs": [],
   "source": [
    "#iMDB datasets\n",
    "imdb_ratings = pd.read_csv('zippedData/imdb.title.ratings.csv.gz')\n",
    "imdb_titles = pd.read_csv('zippedData/imdb.title.basics.csv.gz')\n",
    "\n",
    "#The Numbers (movie budget dataset)\n",
    "budget = pd.read_csv('zippedData/tn.movie_budgets.csv.gz')"
   ]
  },
  {
   "cell_type": "markdown",
   "metadata": {
    "hidden": true
   },
   "source": [
    "### iMDB and The Numbers Data"
   ]
  },
  {
   "cell_type": "markdown",
   "metadata": {
    "hidden": true
   },
   "source": [
    "#### iMDB Data\n",
    "Two datasets imported from iMDB are: *imdb_ratings* and *imdb_titles*. \n",
    "\n",
    "The *imdb_ratings* database, provides the average ratings and number of votes for each movies.  \n",
    "\n",
    "The second database, *imdb_titles*, provides more info on each movie including it's title, runtime, start year, and genre. \n"
   ]
  },
  {
   "cell_type": "markdown",
   "metadata": {
    "hidden": true
   },
   "source": [
    "These two datasets can be easily joined since they share the unique movie identifier 'tconst'. In the cells below, the iMDB databases are joined using an inner join. "
   ]
  },
  {
   "cell_type": "code",
   "execution_count": 6,
   "metadata": {
    "hidden": true
   },
   "outputs": [],
   "source": [
    "#setting indexes to 'tconst' for each dataset to prep for inner join\n",
    "imdb_titles.set_index('tconst', inplace=True)\n",
    "imdb_ratings.set_index('tconst', inplace=True)"
   ]
  },
  {
   "cell_type": "code",
   "execution_count": 14,
   "metadata": {
    "hidden": true
   },
   "outputs": [
    {
     "data": {
      "text/html": [
       "<div>\n",
       "<style scoped>\n",
       "    .dataframe tbody tr th:only-of-type {\n",
       "        vertical-align: middle;\n",
       "    }\n",
       "\n",
       "    .dataframe tbody tr th {\n",
       "        vertical-align: top;\n",
       "    }\n",
       "\n",
       "    .dataframe thead th {\n",
       "        text-align: right;\n",
       "    }\n",
       "</style>\n",
       "<table border=\"1\" class=\"dataframe\">\n",
       "  <thead>\n",
       "    <tr style=\"text-align: right;\">\n",
       "      <th></th>\n",
       "      <th>primary_title</th>\n",
       "      <th>original_title</th>\n",
       "      <th>start_year</th>\n",
       "      <th>runtime_minutes</th>\n",
       "      <th>genres</th>\n",
       "      <th>averagerating</th>\n",
       "      <th>numvotes</th>\n",
       "    </tr>\n",
       "    <tr>\n",
       "      <th>tconst</th>\n",
       "      <th></th>\n",
       "      <th></th>\n",
       "      <th></th>\n",
       "      <th></th>\n",
       "      <th></th>\n",
       "      <th></th>\n",
       "      <th></th>\n",
       "    </tr>\n",
       "  </thead>\n",
       "  <tbody>\n",
       "    <tr>\n",
       "      <th>tt0063540</th>\n",
       "      <td>Sunghursh</td>\n",
       "      <td>Sunghursh</td>\n",
       "      <td>2013</td>\n",
       "      <td>175.0</td>\n",
       "      <td>Action,Crime,Drama</td>\n",
       "      <td>7.0</td>\n",
       "      <td>77</td>\n",
       "    </tr>\n",
       "    <tr>\n",
       "      <th>tt0066787</th>\n",
       "      <td>One Day Before the Rainy Season</td>\n",
       "      <td>Ashad Ka Ek Din</td>\n",
       "      <td>2019</td>\n",
       "      <td>114.0</td>\n",
       "      <td>Biography,Drama</td>\n",
       "      <td>7.2</td>\n",
       "      <td>43</td>\n",
       "    </tr>\n",
       "  </tbody>\n",
       "</table>\n",
       "</div>"
      ],
      "text/plain": [
       "                             primary_title   original_title  start_year  \\\n",
       "tconst                                                                    \n",
       "tt0063540                        Sunghursh        Sunghursh        2013   \n",
       "tt0066787  One Day Before the Rainy Season  Ashad Ka Ek Din        2019   \n",
       "\n",
       "           runtime_minutes              genres  averagerating  numvotes  \n",
       "tconst                                                                   \n",
       "tt0063540            175.0  Action,Crime,Drama            7.0        77  \n",
       "tt0066787            114.0     Biography,Drama            7.2        43  "
      ]
     },
     "execution_count": 14,
     "metadata": {},
     "output_type": "execute_result"
    }
   ],
   "source": [
    "#joining dfs using inner join to get iMDB movies that contain both titles and ratings\n",
    "imdb_titles_ratings = imdb_titles.join(imdb_ratings, how='inner')\n",
    "\n",
    "imdb_titles_ratings.head(2)\n"
   ]
  },
  {
   "cell_type": "markdown",
   "metadata": {
    "hidden": true
   },
   "source": [
    "At this point in the analysis, there are close to 74,000 entries. The start year's range from 2010-2019, but as we'll see this is column does not represent the movie's actual release date. "
   ]
  },
  {
   "cell_type": "markdown",
   "metadata": {
    "hidden": true
   },
   "source": [
    "#### The Numbers Data:\n",
    "\n",
    "'The Numbers' dataset includes information on each movie's release date, title, budget, and total gross(both domestic and worldwide). The dataset contains 5782 entries."
   ]
  },
  {
   "cell_type": "code",
   "execution_count": 21,
   "metadata": {
    "hidden": true
   },
   "outputs": [
    {
     "data": {
      "text/html": [
       "<div>\n",
       "<style scoped>\n",
       "    .dataframe tbody tr th:only-of-type {\n",
       "        vertical-align: middle;\n",
       "    }\n",
       "\n",
       "    .dataframe tbody tr th {\n",
       "        vertical-align: top;\n",
       "    }\n",
       "\n",
       "    .dataframe thead th {\n",
       "        text-align: right;\n",
       "    }\n",
       "</style>\n",
       "<table border=\"1\" class=\"dataframe\">\n",
       "  <thead>\n",
       "    <tr style=\"text-align: right;\">\n",
       "      <th></th>\n",
       "      <th>id</th>\n",
       "      <th>release_date</th>\n",
       "      <th>movie</th>\n",
       "      <th>production_budget</th>\n",
       "      <th>domestic_gross</th>\n",
       "      <th>worldwide_gross</th>\n",
       "    </tr>\n",
       "  </thead>\n",
       "  <tbody>\n",
       "    <tr>\n",
       "      <th>0</th>\n",
       "      <td>1</td>\n",
       "      <td>Dec 18, 2009</td>\n",
       "      <td>Avatar</td>\n",
       "      <td>$425,000,000</td>\n",
       "      <td>$760,507,625</td>\n",
       "      <td>$2,776,345,279</td>\n",
       "    </tr>\n",
       "    <tr>\n",
       "      <th>1</th>\n",
       "      <td>2</td>\n",
       "      <td>May 20, 2011</td>\n",
       "      <td>Pirates of the Caribbean: On Stranger Tides</td>\n",
       "      <td>$410,600,000</td>\n",
       "      <td>$241,063,875</td>\n",
       "      <td>$1,045,663,875</td>\n",
       "    </tr>\n",
       "  </tbody>\n",
       "</table>\n",
       "</div>"
      ],
      "text/plain": [
       "   id  release_date                                        movie  \\\n",
       "0   1  Dec 18, 2009                                       Avatar   \n",
       "1   2  May 20, 2011  Pirates of the Caribbean: On Stranger Tides   \n",
       "\n",
       "  production_budget domestic_gross worldwide_gross  \n",
       "0      $425,000,000   $760,507,625  $2,776,345,279  \n",
       "1      $410,600,000   $241,063,875  $1,045,663,875  "
      ]
     },
     "execution_count": 21,
     "metadata": {},
     "output_type": "execute_result"
    }
   ],
   "source": [
    "budget.head(2)"
   ]
  },
  {
   "cell_type": "markdown",
   "metadata": {
    "hidden": true
   },
   "source": [
    "#### Merging Data Tables Together\n",
    "\n",
    "The two tables are joined using movie title to create one movie data frame. Before cleaning the data frame has 2638 entries. With movies' release date ranging from 1940-2019."
   ]
  },
  {
   "cell_type": "code",
   "execution_count": 20,
   "metadata": {
    "hidden": true
   },
   "outputs": [
    {
     "data": {
      "text/html": [
       "<div>\n",
       "<style scoped>\n",
       "    .dataframe tbody tr th:only-of-type {\n",
       "        vertical-align: middle;\n",
       "    }\n",
       "\n",
       "    .dataframe tbody tr th {\n",
       "        vertical-align: top;\n",
       "    }\n",
       "\n",
       "    .dataframe thead th {\n",
       "        text-align: right;\n",
       "    }\n",
       "</style>\n",
       "<table border=\"1\" class=\"dataframe\">\n",
       "  <thead>\n",
       "    <tr style=\"text-align: right;\">\n",
       "      <th></th>\n",
       "      <th>primary_title</th>\n",
       "      <th>original_title</th>\n",
       "      <th>start_year</th>\n",
       "      <th>runtime_minutes</th>\n",
       "      <th>genres</th>\n",
       "      <th>averagerating</th>\n",
       "      <th>numvotes</th>\n",
       "      <th>id</th>\n",
       "      <th>release_date</th>\n",
       "      <th>movie</th>\n",
       "      <th>production_budget</th>\n",
       "      <th>domestic_gross</th>\n",
       "      <th>worldwide_gross</th>\n",
       "    </tr>\n",
       "  </thead>\n",
       "  <tbody>\n",
       "    <tr>\n",
       "      <th>0</th>\n",
       "      <td>Foodfight!</td>\n",
       "      <td>Foodfight!</td>\n",
       "      <td>2012</td>\n",
       "      <td>91.0</td>\n",
       "      <td>Action,Animation,Comedy</td>\n",
       "      <td>1.9</td>\n",
       "      <td>8248</td>\n",
       "      <td>26</td>\n",
       "      <td>Dec 31, 2012</td>\n",
       "      <td>Foodfight!</td>\n",
       "      <td>$45,000,000</td>\n",
       "      <td>$0</td>\n",
       "      <td>$73,706</td>\n",
       "    </tr>\n",
       "    <tr>\n",
       "      <th>1</th>\n",
       "      <td>The Overnight</td>\n",
       "      <td>The Overnight</td>\n",
       "      <td>2010</td>\n",
       "      <td>88.0</td>\n",
       "      <td>NaN</td>\n",
       "      <td>7.5</td>\n",
       "      <td>24</td>\n",
       "      <td>21</td>\n",
       "      <td>Jun 19, 2015</td>\n",
       "      <td>The Overnight</td>\n",
       "      <td>$200,000</td>\n",
       "      <td>$1,109,808</td>\n",
       "      <td>$1,165,996</td>\n",
       "    </tr>\n",
       "  </tbody>\n",
       "</table>\n",
       "</div>"
      ],
      "text/plain": [
       "   primary_title original_title  start_year  runtime_minutes  \\\n",
       "0     Foodfight!     Foodfight!        2012             91.0   \n",
       "1  The Overnight  The Overnight        2010             88.0   \n",
       "\n",
       "                    genres  averagerating  numvotes  id  release_date  \\\n",
       "0  Action,Animation,Comedy            1.9      8248  26  Dec 31, 2012   \n",
       "1                      NaN            7.5        24  21  Jun 19, 2015   \n",
       "\n",
       "           movie production_budget domestic_gross worldwide_gross  \n",
       "0     Foodfight!       $45,000,000             $0         $73,706  \n",
       "1  The Overnight          $200,000     $1,109,808      $1,165,996  "
      ]
     },
     "execution_count": 20,
     "metadata": {},
     "output_type": "execute_result"
    }
   ],
   "source": [
    "#merging the two tables (imdb + budget) using movie titles\n",
    "movies_df = pd.merge(imdb_titles_ratings, budget, right_on='movie', left_on='original_title')\n",
    "movies_df.head(2)"
   ]
  },
  {
   "cell_type": "markdown",
   "metadata": {
    "hidden": true
   },
   "source": [
    "### Creating Top 2021 Movies Table Using Webscraping\n",
    "\n",
    "Since the data from the tables above only includes movies up to 2019, I wanted to get more recent data. To do so, I webscraped data from the website boxofficemojo.com to from a table with the top 200 movies from 2021.\n",
    "\n",
    "The data includes the movie's current rank, title, gross, release date, and studio."
   ]
  },
  {
   "cell_type": "code",
   "execution_count": 24,
   "metadata": {
    "hidden": true
   },
   "outputs": [],
   "source": [
    "html_page = requests.get(\"https://www.boxofficemojo.com/year/2021/?ref_=bo_lnav_hm_shrt\")\n",
    "\n",
    "soup = BeautifulSoup(html_page.content, 'html.parser')"
   ]
  },
  {
   "cell_type": "code",
   "execution_count": 25,
   "metadata": {
    "hidden": true
   },
   "outputs": [
    {
     "data": {
      "text/plain": [
       "200"
      ]
     },
     "execution_count": 25,
     "metadata": {},
     "output_type": "execute_result"
    }
   ],
   "source": [
    "#finding relevant division and creating container\n",
    "table = soup.find('div', id='table')\n",
    "\n",
    "#seperates all the relevant rows with movie data from table headers\n",
    "table_rows = table.findAll('tr')[1:]\n",
    "\n",
    "#length outputs 200 items, which corresponds to the 200 items on the website\n",
    "len(table_rows)"
   ]
  },
  {
   "cell_type": "code",
   "execution_count": 31,
   "metadata": {
    "hidden": true
   },
   "outputs": [],
   "source": [
    "#finding rank\n",
    "rank = table_rows[0].find('td', class_=\"a-text-right mojo-header-column mojo-truncate mojo-field-type-rank mojo-sort-column\").text\n",
    "\n",
    "#finding title\n",
    "title = table_rows[0].find('td', class_= \"a-text-left mojo-field-type-release mojo-cell-wide\").text\n",
    "\n",
    "#finding amount grossed\n",
    "gross = table_rows[0].find('td', class_ = \"a-text-right mojo-field-type-money mojo-estimatable\").text\n",
    "\n",
    "#finding release date\n",
    "release_date = table_rows[0].find('td', class_ = \"a-text-left mojo-field-type-date a-nowrap\").text\n",
    "\n",
    "#finding studio\n",
    "studio =  table_rows[0].find('td',class_ = \"a-text-left mojo-field-type-studio\").text.strip()\n"
   ]
  },
  {
   "cell_type": "code",
   "execution_count": 32,
   "metadata": {
    "hidden": true
   },
   "outputs": [],
   "source": [
    "#Function to retrieve each row/movie from website\n",
    "def get_movie_data(movie_table):\n",
    "    movie_data = []\n",
    "    for row in movie_table:\n",
    "        rank = row.find('td', class_=\"a-text-right mojo-header-column mojo-truncate mojo-field-type-rank mojo-sort-column\").text\n",
    "        title = row.find('td', class_= \"a-text-left mojo-field-type-release mojo-cell-wide\").text\n",
    "        gross = row.find('td', class_ = \"a-text-right mojo-field-type-money mojo-estimatable\").text\n",
    "        release_date = row.find('td', class_ = \"a-text-left mojo-field-type-date a-nowrap\").text\n",
    "        studio = row.find('td',class_ = \"a-text-left mojo-field-type-studio\").text.strip()\n",
    "        \n",
    "        movie_data.append({'Rank': rank, 'Title': title, 'Gross': gross, \n",
    "                           'Release Date': release_date, 'Studio': studio})\n",
    "    return movie_data"
   ]
  },
  {
   "cell_type": "code",
   "execution_count": 36,
   "metadata": {
    "hidden": true
   },
   "outputs": [
    {
     "data": {
      "text/html": [
       "<div>\n",
       "<style scoped>\n",
       "    .dataframe tbody tr th:only-of-type {\n",
       "        vertical-align: middle;\n",
       "    }\n",
       "\n",
       "    .dataframe tbody tr th {\n",
       "        vertical-align: top;\n",
       "    }\n",
       "\n",
       "    .dataframe thead th {\n",
       "        text-align: right;\n",
       "    }\n",
       "</style>\n",
       "<table border=\"1\" class=\"dataframe\">\n",
       "  <thead>\n",
       "    <tr style=\"text-align: right;\">\n",
       "      <th></th>\n",
       "      <th>Rank</th>\n",
       "      <th>Title</th>\n",
       "      <th>Gross</th>\n",
       "      <th>Release Date</th>\n",
       "      <th>Studio</th>\n",
       "    </tr>\n",
       "  </thead>\n",
       "  <tbody>\n",
       "    <tr>\n",
       "      <th>0</th>\n",
       "      <td>1</td>\n",
       "      <td>Shang-Chi and the Legend of the Ten Rings</td>\n",
       "      <td>$223,361,907</td>\n",
       "      <td>Sep 3</td>\n",
       "      <td>Walt Disney Studios Motion Pictures</td>\n",
       "    </tr>\n",
       "    <tr>\n",
       "      <th>1</th>\n",
       "      <td>2</td>\n",
       "      <td>Venom: Let There Be Carnage</td>\n",
       "      <td>$193,717,635</td>\n",
       "      <td>Oct 1</td>\n",
       "      <td>Sony Pictures Entertainment (SPE)</td>\n",
       "    </tr>\n",
       "  </tbody>\n",
       "</table>\n",
       "</div>"
      ],
      "text/plain": [
       "  Rank                                      Title         Gross Release Date  \\\n",
       "0    1  Shang-Chi and the Legend of the Ten Rings  $223,361,907        Sep 3   \n",
       "1    2                Venom: Let There Be Carnage  $193,717,635        Oct 1   \n",
       "\n",
       "                                Studio  \n",
       "0  Walt Disney Studios Motion Pictures  \n",
       "1    Sony Pictures Entertainment (SPE)  "
      ]
     },
     "execution_count": 36,
     "metadata": {},
     "output_type": "execute_result"
    }
   ],
   "source": [
    "movie_data = get_movie_data(table_rows)\n",
    "rankings_2021_df = pd.DataFrame(movie_data)\n",
    "\n",
    "rankings_2021_df.head(2)"
   ]
  },
  {
   "cell_type": "markdown",
   "metadata": {},
   "source": [
    "## Data Preparation\n",
    "\n",
    "Describe and justify the process for preparing the data for analysis.\n",
    "\n",
    "***\n",
    "Questions to consider:\n",
    "* Were there variables you dropped or created?\n",
    "* How did you address missing values or outliers?\n",
    "* Why are these choices appropriate given the data and the business problem?\n",
    "***"
   ]
  },
  {
   "cell_type": "code",
   "execution_count": 6,
   "metadata": {},
   "outputs": [],
   "source": [
    "# Here you run your code to clean the data"
   ]
  },
  {
   "cell_type": "markdown",
   "metadata": {},
   "source": [
    "## Data Modeling\n",
    "Describe and justify the process for analyzing or modeling the data.\n",
    "\n",
    "***\n",
    "Questions to consider:\n",
    "* How did you analyze or model the data?\n",
    "* How did you iterate on your initial approach to make it better?\n",
    "* Why are these choices appropriate given the data and the business problem?\n",
    "***"
   ]
  },
  {
   "cell_type": "code",
   "execution_count": null,
   "metadata": {},
   "outputs": [],
   "source": [
    "# Here you run your code to model the data\n"
   ]
  },
  {
   "cell_type": "markdown",
   "metadata": {},
   "source": [
    "## Evaluation\n",
    "Evaluate how well your work solves the stated business problem.\n",
    "\n",
    "***\n",
    "Questions to consider:\n",
    "* How do you interpret the results?\n",
    "* How well does your model fit your data? How much better is this than your baseline model?\n",
    "* How confident are you that your results would generalize beyond the data you have?\n",
    "* How confident are you that this model would benefit the business if put into use?\n",
    "***"
   ]
  },
  {
   "cell_type": "markdown",
   "metadata": {},
   "source": [
    "## Conclusions\n",
    "Provide your conclusions about the work you've done, including any limitations or next steps.\n",
    "\n",
    "***\n",
    "Questions to consider:\n",
    "* What would you recommend the business do as a result of this work?\n",
    "* What are some reasons why your analysis might not fully solve the business problem?\n",
    "* What else could you do in the future to improve this project?\n",
    "***"
   ]
  }
 ],
 "metadata": {
  "kernelspec": {
   "display_name": "Python 3",
   "language": "python",
   "name": "python3"
  },
  "language_info": {
   "codemirror_mode": {
    "name": "ipython",
    "version": 3
   },
   "file_extension": ".py",
   "mimetype": "text/x-python",
   "name": "python",
   "nbconvert_exporter": "python",
   "pygments_lexer": "ipython3",
   "version": "3.8.5"
  },
  "toc": {
   "base_numbering": 1,
   "nav_menu": {},
   "number_sections": true,
   "sideBar": true,
   "skip_h1_title": false,
   "title_cell": "Table of Contents",
   "title_sidebar": "Contents",
   "toc_cell": false,
   "toc_position": {},
   "toc_section_display": true,
   "toc_window_display": false
  }
 },
 "nbformat": 4,
 "nbformat_minor": 4
}
